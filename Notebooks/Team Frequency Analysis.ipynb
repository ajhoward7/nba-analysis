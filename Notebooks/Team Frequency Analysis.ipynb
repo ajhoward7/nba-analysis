{
 "cells": [
  {
   "cell_type": "markdown",
   "metadata": {},
   "source": [
    "# Team Frequency Analysis"
   ]
  },
  {
   "cell_type": "markdown",
   "metadata": {},
   "source": [
    "Note: some articles missing text - find and re-scrape."
   ]
  },
  {
   "cell_type": "code",
   "execution_count": 1,
   "metadata": {},
   "outputs": [],
   "source": [
    "import pandas as pd\n",
    "import matplotlib.pyplot as plt\n",
    "import numpy as np\n",
    "import os\n",
    "from collections import Counter\n",
    "from textblob import TextBlob, Word\n",
    "import nltk\n",
    "from nltk.corpus import stopwords\n",
    "import string\n",
    "import spacy\n",
    "import seaborn as sns"
   ]
  },
  {
   "cell_type": "code",
   "execution_count": 2,
   "metadata": {},
   "outputs": [],
   "source": [
    "%matplotlib inline"
   ]
  },
  {
   "cell_type": "code",
   "execution_count": 3,
   "metadata": {},
   "outputs": [],
   "source": [
    "articles_list = pd.read_csv('nyt_scrape/articles_list_w_date.csv',parse_dates=['date'])"
   ]
  },
  {
   "cell_type": "code",
   "execution_count": 4,
   "metadata": {},
   "outputs": [
    {
     "data": {
      "text/html": [
       "<div>\n",
       "<style scoped>\n",
       "    .dataframe tbody tr th:only-of-type {\n",
       "        vertical-align: middle;\n",
       "    }\n",
       "\n",
       "    .dataframe tbody tr th {\n",
       "        vertical-align: top;\n",
       "    }\n",
       "\n",
       "    .dataframe thead th {\n",
       "        text-align: right;\n",
       "    }\n",
       "</style>\n",
       "<table border=\"1\" class=\"dataframe\">\n",
       "  <thead>\n",
       "    <tr style=\"text-align: right;\">\n",
       "      <th></th>\n",
       "      <th>published_date</th>\n",
       "      <th>article_urls</th>\n",
       "      <th>article_summary</th>\n",
       "      <th>article_headline</th>\n",
       "      <th>title</th>\n",
       "      <th>date</th>\n",
       "    </tr>\n",
       "  </thead>\n",
       "  <tbody>\n",
       "    <tr>\n",
       "      <th>0</th>\n",
       "      <td>2018-06-09T17:31:27+0000</td>\n",
       "      <td>https://www.nytimes.com/2018/06/09/sports/nba-...</td>\n",
       "      <td>Accused of making the sport uncompetitive, the...</td>\n",
       "      <td>The Warriors Were Dominant. But How Dominant?</td>\n",
       "      <td>nba-finals-sweep</td>\n",
       "      <td>2018-06-09</td>\n",
       "    </tr>\n",
       "    <tr>\n",
       "      <th>1</th>\n",
       "      <td>2018-06-09T01:26:37+0000</td>\n",
       "      <td>https://www.nytimes.com/2018/06/08/movies/kyri...</td>\n",
       "      <td>In his most extensive comments to date, the Bo...</td>\n",
       "      <td>Kyrie Irving Doesn’t Know if the Earth Is Roun...</td>\n",
       "      <td>kyrie-irving-nba-celtics-earth</td>\n",
       "      <td>2018-06-09</td>\n",
       "    </tr>\n",
       "  </tbody>\n",
       "</table>\n",
       "</div>"
      ],
      "text/plain": [
       "             published_date  \\\n",
       "0  2018-06-09T17:31:27+0000   \n",
       "1  2018-06-09T01:26:37+0000   \n",
       "\n",
       "                                        article_urls  \\\n",
       "0  https://www.nytimes.com/2018/06/09/sports/nba-...   \n",
       "1  https://www.nytimes.com/2018/06/08/movies/kyri...   \n",
       "\n",
       "                                     article_summary  \\\n",
       "0  Accused of making the sport uncompetitive, the...   \n",
       "1  In his most extensive comments to date, the Bo...   \n",
       "\n",
       "                                    article_headline  \\\n",
       "0      The Warriors Were Dominant. But How Dominant?   \n",
       "1  Kyrie Irving Doesn’t Know if the Earth Is Roun...   \n",
       "\n",
       "                            title       date  \n",
       "0                nba-finals-sweep 2018-06-09  \n",
       "1  kyrie-irving-nba-celtics-earth 2018-06-09  "
      ]
     },
     "execution_count": 4,
     "metadata": {},
     "output_type": "execute_result"
    }
   ],
   "source": [
    "articles_list.head(2)"
   ]
  },
  {
   "cell_type": "markdown",
   "metadata": {},
   "source": [
    "## Total Mentions across Corpus:"
   ]
  },
  {
   "cell_type": "code",
   "execution_count": 5,
   "metadata": {},
   "outputs": [],
   "source": [
    "dir_list = os.listdir('nyt_scrape/new_articles')"
   ]
  },
  {
   "cell_type": "code",
   "execution_count": 6,
   "metadata": {},
   "outputs": [],
   "source": [
    "corpus = ''\n",
    "\n",
    "for article in dir_list:\n",
    "    with open(f'nyt_scrape/new_articles/{article}') as f:\n",
    "        corpus += f.read()\n",
    "        corpus += '\\n'\n",
    "\n",
    "corpus = corpus.replace('’','').replace('”','').replace('“','').replace('—','')"
   ]
  },
  {
   "cell_type": "code",
   "execution_count": 7,
   "metadata": {},
   "outputs": [],
   "source": [
    "corpus_blob = TextBlob(corpus)"
   ]
  },
  {
   "cell_type": "code",
   "execution_count": 8,
   "metadata": {},
   "outputs": [],
   "source": [
    "tags = corpus_blob.pos_tags\n",
    "tags = [tag for tag in tags if tag[1] in {'NN','NNS','NNP','NNPS'}]\n",
    "tags = [Word(tag[0].lower()) for tag in tags]\n",
    "lemma_tags = [tag.lemmatize() for tag in tags]\n",
    "lemma_tags = [tag for tag in tags if tag not in ['s','t']]\n",
    "c2 = Counter(lemma_tags)"
   ]
  },
  {
   "cell_type": "code",
   "execution_count": 9,
   "metadata": {},
   "outputs": [],
   "source": [
    "team_names = pd.read_csv('team_names.csv')"
   ]
  },
  {
   "cell_type": "code",
   "execution_count": 10,
   "metadata": {},
   "outputs": [],
   "source": [
    "playoff_dict = {0:'DNQ',1:'First Round',2:'Second Round',3:'Conference Finals',4:'NBA Finals',5:'Champion'}\n",
    "inverse_playoff_dict = dict(zip(playoff_dict.values(),playoff_dict.keys()))"
   ]
  },
  {
   "cell_type": "code",
   "execution_count": 11,
   "metadata": {},
   "outputs": [],
   "source": [
    "names = list(team_names['Name'])\n",
    "team_names['noun_occurrences'] = [c2[name.lower()] for name in names]"
   ]
  },
  {
   "cell_type": "code",
   "execution_count": 12,
   "metadata": {},
   "outputs": [
    {
     "data": {
      "text/html": [
       "<div>\n",
       "<style scoped>\n",
       "    .dataframe tbody tr th:only-of-type {\n",
       "        vertical-align: middle;\n",
       "    }\n",
       "\n",
       "    .dataframe tbody tr th {\n",
       "        vertical-align: top;\n",
       "    }\n",
       "\n",
       "    .dataframe thead th {\n",
       "        text-align: right;\n",
       "    }\n",
       "</style>\n",
       "<table border=\"1\" class=\"dataframe\">\n",
       "  <thead>\n",
       "    <tr style=\"text-align: right;\">\n",
       "      <th></th>\n",
       "      <th>Name</th>\n",
       "      <th>Wins</th>\n",
       "      <th>Playoffs</th>\n",
       "      <th>Conference</th>\n",
       "      <th>New York Team</th>\n",
       "      <th>City</th>\n",
       "      <th>noun_occurrences</th>\n",
       "    </tr>\n",
       "  </thead>\n",
       "  <tbody>\n",
       "    <tr>\n",
       "      <th>6</th>\n",
       "      <td>Knicks</td>\n",
       "      <td>29</td>\n",
       "      <td>0</td>\n",
       "      <td>E</td>\n",
       "      <td>1</td>\n",
       "      <td>New York</td>\n",
       "      <td>590</td>\n",
       "    </tr>\n",
       "    <tr>\n",
       "      <th>2</th>\n",
       "      <td>Warriors</td>\n",
       "      <td>58</td>\n",
       "      <td>5</td>\n",
       "      <td>W</td>\n",
       "      <td>0</td>\n",
       "      <td>Golden State</td>\n",
       "      <td>521</td>\n",
       "    </tr>\n",
       "    <tr>\n",
       "      <th>1</th>\n",
       "      <td>Cavaliers</td>\n",
       "      <td>50</td>\n",
       "      <td>4</td>\n",
       "      <td>E</td>\n",
       "      <td>0</td>\n",
       "      <td>Cleveland</td>\n",
       "      <td>370</td>\n",
       "    </tr>\n",
       "    <tr>\n",
       "      <th>3</th>\n",
       "      <td>Celtics</td>\n",
       "      <td>55</td>\n",
       "      <td>3</td>\n",
       "      <td>E</td>\n",
       "      <td>0</td>\n",
       "      <td>Boston</td>\n",
       "      <td>302</td>\n",
       "    </tr>\n",
       "    <tr>\n",
       "      <th>8</th>\n",
       "      <td>Rockets</td>\n",
       "      <td>65</td>\n",
       "      <td>3</td>\n",
       "      <td>W</td>\n",
       "      <td>0</td>\n",
       "      <td>Houston</td>\n",
       "      <td>296</td>\n",
       "    </tr>\n",
       "  </tbody>\n",
       "</table>\n",
       "</div>"
      ],
      "text/plain": [
       "        Name  Wins  Playoffs Conference  New York Team          City  \\\n",
       "6     Knicks    29         0          E              1      New York   \n",
       "2   Warriors    58         5          W              0  Golden State   \n",
       "1  Cavaliers    50         4          E              0     Cleveland   \n",
       "3    Celtics    55         3          E              0        Boston   \n",
       "8    Rockets    65         3          W              0       Houston   \n",
       "\n",
       "   noun_occurrences  \n",
       "6               590  \n",
       "2               521  \n",
       "1               370  \n",
       "3               302  \n",
       "8               296  "
      ]
     },
     "execution_count": 12,
     "metadata": {},
     "output_type": "execute_result"
    }
   ],
   "source": [
    "team_names.sort_values(['noun_occurrences'],ascending=False).head()"
   ]
  },
  {
   "cell_type": "code",
   "execution_count": 13,
   "metadata": {},
   "outputs": [],
   "source": [
    "team_names['playoff_round'] = team_names.Playoffs.apply(lambda x : playoff_dict[x])"
   ]
  },
  {
   "cell_type": "code",
   "execution_count": 14,
   "metadata": {},
   "outputs": [
    {
     "data": {
      "image/png": "[encoded data removed]",
      "text/plain": [
       "<Figure size 485.625x360 with 1 Axes>"
      ]
     },
     "metadata": {},
     "output_type": "display_data"
    }
   ],
   "source": [
    "g = sns.lmplot(x=\"Wins\", y=\"noun_occurrences\", hue = \"playoff_round\",data=team_names,fit_reg = False, legend = True)\n",
    "g.set_axis_labels(x_var = \"Number of Wins\", y_var = \"Mentions\")\n",
    "g.axes[0,0].set_xlim(0,82)\n",
    "plt.show()"
   ]
  },
  {
   "cell_type": "markdown",
   "metadata": {},
   "source": [
    "This graph shows that teams who reach further in the playoffs and who have more wins tend to have significantly more mentions. Notable exceptions to this are the New York Knicks and the Brooklyn Nets - the two local teams that we would expect to be reported more."
   ]
  },
  {
   "cell_type": "markdown",
   "metadata": {},
   "source": [
    "# Regular Season Play:"
   ]
  },
  {
   "cell_type": "markdown",
   "metadata": {},
   "source": [
    "Let's try restricting our analysis to articles written before the start of the postseason to see if teams reaching further in the playoffs are also written more about in the regular season."
   ]
  },
  {
   "cell_type": "code",
   "execution_count": 15,
   "metadata": {},
   "outputs": [],
   "source": [
    "postseason_start = pd.to_datetime('2018-04-14')"
   ]
  },
  {
   "cell_type": "code",
   "execution_count": 16,
   "metadata": {},
   "outputs": [],
   "source": [
    "articles_list['regular_season'] = articles_list.date < postseason_start"
   ]
  },
  {
   "cell_type": "code",
   "execution_count": 17,
   "metadata": {},
   "outputs": [],
   "source": [
    "regular_season_corpus = ''\n",
    "\n",
    "for index, row in articles_list.iterrows():\n",
    "    if row['regular_season']:\n",
    "        article = row[\"article_urls\"].replace(\"/\",\"\").replace(\".\",\"\")\n",
    "        with open(f'nyt_scrape/new_articles/{article}.txt') as f:\n",
    "            regular_season_corpus += f.read()\n",
    "            regular_season_corpus += '\\n'"
   ]
  },
  {
   "cell_type": "code",
   "execution_count": 18,
   "metadata": {},
   "outputs": [],
   "source": [
    "regular_blob = TextBlob(regular_season_corpus)\n",
    "tags = regular_blob.pos_tags\n",
    "tags = [tag for tag in tags if tag[1] in {'NN','NNS','NNP','NNPS'}]\n",
    "tags = [Word(tag[0].lower()) for tag in tags]\n",
    "lemma_tags = [tag.lemmatize() for tag in tags]\n",
    "lemma_tags = [tag for tag in tags if tag not in ['s','t']]\n",
    "c3 = Counter(lemma_tags)"
   ]
  },
  {
   "cell_type": "code",
   "execution_count": 19,
   "metadata": {},
   "outputs": [],
   "source": [
    "team_names['regular_occurrences'] = [c3[name.lower()] for name in names]"
   ]
  },
  {
   "cell_type": "code",
   "execution_count": 20,
   "metadata": {},
   "outputs": [
    {
     "data": {
      "text/html": [
       "<div>\n",
       "<style scoped>\n",
       "    .dataframe tbody tr th:only-of-type {\n",
       "        vertical-align: middle;\n",
       "    }\n",
       "\n",
       "    .dataframe tbody tr th {\n",
       "        vertical-align: top;\n",
       "    }\n",
       "\n",
       "    .dataframe thead th {\n",
       "        text-align: right;\n",
       "    }\n",
       "</style>\n",
       "<table border=\"1\" class=\"dataframe\">\n",
       "  <thead>\n",
       "    <tr style=\"text-align: right;\">\n",
       "      <th></th>\n",
       "      <th>Name</th>\n",
       "      <th>Wins</th>\n",
       "      <th>Playoffs</th>\n",
       "      <th>Conference</th>\n",
       "      <th>New York Team</th>\n",
       "      <th>City</th>\n",
       "      <th>noun_occurrences</th>\n",
       "      <th>playoff_round</th>\n",
       "      <th>regular_occurrences</th>\n",
       "    </tr>\n",
       "  </thead>\n",
       "  <tbody>\n",
       "    <tr>\n",
       "      <th>6</th>\n",
       "      <td>Knicks</td>\n",
       "      <td>29</td>\n",
       "      <td>0</td>\n",
       "      <td>E</td>\n",
       "      <td>1</td>\n",
       "      <td>New York</td>\n",
       "      <td>590</td>\n",
       "      <td>DNQ</td>\n",
       "      <td>559</td>\n",
       "    </tr>\n",
       "    <tr>\n",
       "      <th>2</th>\n",
       "      <td>Warriors</td>\n",
       "      <td>58</td>\n",
       "      <td>5</td>\n",
       "      <td>W</td>\n",
       "      <td>0</td>\n",
       "      <td>Golden State</td>\n",
       "      <td>521</td>\n",
       "      <td>Champion</td>\n",
       "      <td>168</td>\n",
       "    </tr>\n",
       "    <tr>\n",
       "      <th>1</th>\n",
       "      <td>Cavaliers</td>\n",
       "      <td>50</td>\n",
       "      <td>4</td>\n",
       "      <td>E</td>\n",
       "      <td>0</td>\n",
       "      <td>Cleveland</td>\n",
       "      <td>370</td>\n",
       "      <td>NBA Finals</td>\n",
       "      <td>147</td>\n",
       "    </tr>\n",
       "    <tr>\n",
       "      <th>24</th>\n",
       "      <td>Nets</td>\n",
       "      <td>28</td>\n",
       "      <td>0</td>\n",
       "      <td>E</td>\n",
       "      <td>1</td>\n",
       "      <td>Brooklyn</td>\n",
       "      <td>146</td>\n",
       "      <td>DNQ</td>\n",
       "      <td>145</td>\n",
       "    </tr>\n",
       "    <tr>\n",
       "      <th>3</th>\n",
       "      <td>Celtics</td>\n",
       "      <td>55</td>\n",
       "      <td>3</td>\n",
       "      <td>E</td>\n",
       "      <td>0</td>\n",
       "      <td>Boston</td>\n",
       "      <td>302</td>\n",
       "      <td>Conference Finals</td>\n",
       "      <td>130</td>\n",
       "    </tr>\n",
       "  </tbody>\n",
       "</table>\n",
       "</div>"
      ],
      "text/plain": [
       "         Name  Wins  Playoffs Conference  New York Team          City  \\\n",
       "6      Knicks    29         0          E              1      New York   \n",
       "2    Warriors    58         5          W              0  Golden State   \n",
       "1   Cavaliers    50         4          E              0     Cleveland   \n",
       "24       Nets    28         0          E              1      Brooklyn   \n",
       "3     Celtics    55         3          E              0        Boston   \n",
       "\n",
       "    noun_occurrences      playoff_round  regular_occurrences  \n",
       "6                590                DNQ                  559  \n",
       "2                521           Champion                  168  \n",
       "1                370         NBA Finals                  147  \n",
       "24               146                DNQ                  145  \n",
       "3                302  Conference Finals                  130  "
      ]
     },
     "execution_count": 20,
     "metadata": {},
     "output_type": "execute_result"
    }
   ],
   "source": [
    "team_names.sort_values(['regular_occurrences'],ascending=False).head()"
   ]
  },
  {
   "cell_type": "code",
   "execution_count": 21,
   "metadata": {},
   "outputs": [
    {
     "data": {
      "text/html": [
       "<div>\n",
       "<style scoped>\n",
       "    .dataframe tbody tr th:only-of-type {\n",
       "        vertical-align: middle;\n",
       "    }\n",
       "\n",
       "    .dataframe tbody tr th {\n",
       "        vertical-align: top;\n",
       "    }\n",
       "\n",
       "    .dataframe thead th {\n",
       "        text-align: right;\n",
       "    }\n",
       "</style>\n",
       "<table border=\"1\" class=\"dataframe\">\n",
       "  <thead>\n",
       "    <tr style=\"text-align: right;\">\n",
       "      <th></th>\n",
       "      <th>Name</th>\n",
       "      <th>Wins</th>\n",
       "      <th>Playoffs</th>\n",
       "      <th>Conference</th>\n",
       "      <th>New York Team</th>\n",
       "      <th>City</th>\n",
       "      <th>noun_occurrences</th>\n",
       "      <th>playoff_round</th>\n",
       "      <th>regular_occurrences</th>\n",
       "    </tr>\n",
       "  </thead>\n",
       "  <tbody>\n",
       "    <tr>\n",
       "      <th>7</th>\n",
       "      <td>Bulls</td>\n",
       "      <td>27</td>\n",
       "      <td>0</td>\n",
       "      <td>E</td>\n",
       "      <td>0</td>\n",
       "      <td>Chicago</td>\n",
       "      <td>28</td>\n",
       "      <td>DNQ</td>\n",
       "      <td>18</td>\n",
       "    </tr>\n",
       "    <tr>\n",
       "      <th>15</th>\n",
       "      <td>Timberwolves</td>\n",
       "      <td>47</td>\n",
       "      <td>1</td>\n",
       "      <td>W</td>\n",
       "      <td>0</td>\n",
       "      <td>Minnesota</td>\n",
       "      <td>46</td>\n",
       "      <td>First Round</td>\n",
       "      <td>23</td>\n",
       "    </tr>\n",
       "    <tr>\n",
       "      <th>20</th>\n",
       "      <td>Blazers</td>\n",
       "      <td>49</td>\n",
       "      <td>1</td>\n",
       "      <td>W</td>\n",
       "      <td>0</td>\n",
       "      <td>Portland</td>\n",
       "      <td>44</td>\n",
       "      <td>First Round</td>\n",
       "      <td>24</td>\n",
       "    </tr>\n",
       "    <tr>\n",
       "      <th>25</th>\n",
       "      <td>Grizzlies</td>\n",
       "      <td>22</td>\n",
       "      <td>0</td>\n",
       "      <td>E</td>\n",
       "      <td>0</td>\n",
       "      <td>Memphis</td>\n",
       "      <td>29</td>\n",
       "      <td>DNQ</td>\n",
       "      <td>25</td>\n",
       "    </tr>\n",
       "    <tr>\n",
       "      <th>16</th>\n",
       "      <td>Hornets</td>\n",
       "      <td>36</td>\n",
       "      <td>0</td>\n",
       "      <td>E</td>\n",
       "      <td>0</td>\n",
       "      <td>Charlotte</td>\n",
       "      <td>31</td>\n",
       "      <td>DNQ</td>\n",
       "      <td>29</td>\n",
       "    </tr>\n",
       "  </tbody>\n",
       "</table>\n",
       "</div>"
      ],
      "text/plain": [
       "            Name  Wins  Playoffs Conference  New York Team       City  \\\n",
       "7          Bulls    27         0          E              0    Chicago   \n",
       "15  Timberwolves    47         1          W              0  Minnesota   \n",
       "20       Blazers    49         1          W              0   Portland   \n",
       "25     Grizzlies    22         0          E              0    Memphis   \n",
       "16       Hornets    36         0          E              0  Charlotte   \n",
       "\n",
       "    noun_occurrences playoff_round  regular_occurrences  \n",
       "7                 28           DNQ                   18  \n",
       "15                46   First Round                   23  \n",
       "20                44   First Round                   24  \n",
       "25                29           DNQ                   25  \n",
       "16                31           DNQ                   29  "
      ]
     },
     "execution_count": 21,
     "metadata": {},
     "output_type": "execute_result"
    }
   ],
   "source": [
    "team_names.sort_values(['regular_occurrences'],ascending=True).head()"
   ]
  },
  {
   "cell_type": "markdown",
   "metadata": {},
   "source": [
    "Immediately we find the Knicks and Nets are even more heavily favoured."
   ]
  },
  {
   "cell_type": "code",
   "execution_count": 22,
   "metadata": {
    "scrolled": false
   },
   "outputs": [
    {
     "data": {
      "image/png": "[encoded data removed]",
      "text/plain": [
       "<Figure size 485.625x360 with 1 Axes>"
      ]
     },
     "metadata": {},
     "output_type": "display_data"
    }
   ],
   "source": [
    "g = sns.lmplot(x=\"Wins\", y=\"regular_occurrences\", hue = \"playoff_round\",data=team_names,fit_reg = False, legend = True)\n",
    "g.set_axis_labels(x_var = \"Number of Wins\", y_var = \"Mentions\")\n",
    "g.axes[0,0].set_xlim(0,82)\n",
    "plt.show()"
   ]
  },
  {
   "cell_type": "markdown",
   "metadata": {},
   "source": [
    "Using this we see much more of a parity across all teams (except for the Knicks), with the fewest mentions being the Chicago Bulls at 18."
   ]
  },
  {
   "cell_type": "markdown",
   "metadata": {},
   "source": [
    "Let's try to fit a linear regression model to this data to examine the underlying effects of each factor:"
   ]
  },
  {
   "cell_type": "code",
   "execution_count": 23,
   "metadata": {},
   "outputs": [],
   "source": [
    "from sklearn.linear_model import LinearRegression"
   ]
  },
  {
   "cell_type": "code",
   "execution_count": 24,
   "metadata": {},
   "outputs": [],
   "source": [
    "model = LinearRegression()"
   ]
  },
  {
   "cell_type": "code",
   "execution_count": 25,
   "metadata": {},
   "outputs": [
    {
     "data": {
      "text/html": [
       "<div>\n",
       "<style scoped>\n",
       "    .dataframe tbody tr th:only-of-type {\n",
       "        vertical-align: middle;\n",
       "    }\n",
       "\n",
       "    .dataframe tbody tr th {\n",
       "        vertical-align: top;\n",
       "    }\n",
       "\n",
       "    .dataframe thead th {\n",
       "        text-align: right;\n",
       "    }\n",
       "</style>\n",
       "<table border=\"1\" class=\"dataframe\">\n",
       "  <thead>\n",
       "    <tr style=\"text-align: right;\">\n",
       "      <th></th>\n",
       "      <th>Name</th>\n",
       "      <th>Wins</th>\n",
       "      <th>Playoffs</th>\n",
       "      <th>Conference</th>\n",
       "      <th>New York Team</th>\n",
       "      <th>City</th>\n",
       "      <th>noun_occurrences</th>\n",
       "      <th>playoff_round</th>\n",
       "      <th>regular_occurrences</th>\n",
       "    </tr>\n",
       "  </thead>\n",
       "  <tbody>\n",
       "    <tr>\n",
       "      <th>0</th>\n",
       "      <td>Lakers</td>\n",
       "      <td>35</td>\n",
       "      <td>0</td>\n",
       "      <td>W</td>\n",
       "      <td>0</td>\n",
       "      <td>Los Angeles</td>\n",
       "      <td>103</td>\n",
       "      <td>DNQ</td>\n",
       "      <td>88</td>\n",
       "    </tr>\n",
       "    <tr>\n",
       "      <th>1</th>\n",
       "      <td>Cavaliers</td>\n",
       "      <td>50</td>\n",
       "      <td>4</td>\n",
       "      <td>E</td>\n",
       "      <td>0</td>\n",
       "      <td>Cleveland</td>\n",
       "      <td>370</td>\n",
       "      <td>NBA Finals</td>\n",
       "      <td>147</td>\n",
       "    </tr>\n",
       "    <tr>\n",
       "      <th>2</th>\n",
       "      <td>Warriors</td>\n",
       "      <td>58</td>\n",
       "      <td>5</td>\n",
       "      <td>W</td>\n",
       "      <td>0</td>\n",
       "      <td>Golden State</td>\n",
       "      <td>521</td>\n",
       "      <td>Champion</td>\n",
       "      <td>168</td>\n",
       "    </tr>\n",
       "    <tr>\n",
       "      <th>3</th>\n",
       "      <td>Celtics</td>\n",
       "      <td>55</td>\n",
       "      <td>3</td>\n",
       "      <td>E</td>\n",
       "      <td>0</td>\n",
       "      <td>Boston</td>\n",
       "      <td>302</td>\n",
       "      <td>Conference Finals</td>\n",
       "      <td>130</td>\n",
       "    </tr>\n",
       "    <tr>\n",
       "      <th>4</th>\n",
       "      <td>Spurs</td>\n",
       "      <td>47</td>\n",
       "      <td>1</td>\n",
       "      <td>W</td>\n",
       "      <td>0</td>\n",
       "      <td>San Antonio</td>\n",
       "      <td>108</td>\n",
       "      <td>First Round</td>\n",
       "      <td>79</td>\n",
       "    </tr>\n",
       "  </tbody>\n",
       "</table>\n",
       "</div>"
      ],
      "text/plain": [
       "        Name  Wins  Playoffs Conference  New York Team          City  \\\n",
       "0     Lakers    35         0          W              0   Los Angeles   \n",
       "1  Cavaliers    50         4          E              0     Cleveland   \n",
       "2   Warriors    58         5          W              0  Golden State   \n",
       "3    Celtics    55         3          E              0        Boston   \n",
       "4      Spurs    47         1          W              0   San Antonio   \n",
       "\n",
       "   noun_occurrences      playoff_round  regular_occurrences  \n",
       "0               103                DNQ                   88  \n",
       "1               370         NBA Finals                  147  \n",
       "2               521           Champion                  168  \n",
       "3               302  Conference Finals                  130  \n",
       "4               108        First Round                   79  "
      ]
     },
     "execution_count": 25,
     "metadata": {},
     "output_type": "execute_result"
    }
   ],
   "source": [
    "team_names.head()"
   ]
  },
  {
   "cell_type": "code",
   "execution_count": 26,
   "metadata": {},
   "outputs": [],
   "source": [
    "team_names.Conference = team_names.Conference.apply(lambda x : 0 if x==\"E\" else 1)"
   ]
  },
  {
   "cell_type": "code",
   "execution_count": 27,
   "metadata": {},
   "outputs": [
    {
     "data": {
      "text/plain": [
       "LinearRegression(copy_X=True, fit_intercept=True, n_jobs=1, normalize=False)"
      ]
     },
     "execution_count": 27,
     "metadata": {},
     "output_type": "execute_result"
    }
   ],
   "source": [
    "predictor_cols = ['Wins','Playoffs','Conference','New York Team']\n",
    "model.fit(team_names[predictor_cols],team_names.regular_occurrences)"
   ]
  },
  {
   "cell_type": "code",
   "execution_count": 28,
   "metadata": {},
   "outputs": [],
   "source": [
    "coefs = zip(predictor_cols,model.coef_)"
   ]
  },
  {
   "cell_type": "code",
   "execution_count": 29,
   "metadata": {},
   "outputs": [
    {
     "name": "stdout",
     "output_type": "stream",
     "text": [
      "Our model predicts that for a unit increase in Wins, a team will receive **-0.52** more mentions in the NYT during the regular season.\n",
      "\n",
      "Our model predicts that for a unit increase in Playoffs, a team will receive **26.2** more mentions in the NYT during the regular season.\n",
      "\n",
      "Our model predicts that for a unit increase in Conference, a team will receive **7.36** more mentions in the NYT during the regular season.\n",
      "\n",
      "Our model predicts that for a unit increase in New York Team, a team will receive **320.02** more mentions in the NYT during the regular season.\n",
      "\n"
     ]
    }
   ],
   "source": [
    "for coef in coefs:\n",
    "    print(f\"Our model predicts that for a unit increase in {coef[0]}, a team will receive **{round(coef[1],2)}** more mentions in the NYT during the regular season.\\n\")"
   ]
  },
  {
   "cell_type": "markdown",
   "metadata": {},
   "source": [
    "Perhaps interesting to note is that being in the Western Conference appears to be a strong predictor of mentions and that actually winning more games would result in less mentions - this seems likely because the data is distorted by the high level of mentions for the Knicks."
   ]
  },
  {
   "cell_type": "markdown",
   "metadata": {},
   "source": [
    "## Try dropping New York teams:"
   ]
  },
  {
   "cell_type": "code",
   "execution_count": 30,
   "metadata": {},
   "outputs": [],
   "source": [
    "team_names.drop([6,24],inplace = True)  # Remove Knicks, Nets"
   ]
  },
  {
   "cell_type": "code",
   "execution_count": 31,
   "metadata": {},
   "outputs": [
    {
     "data": {
      "text/plain": [
       "LinearRegression(copy_X=True, fit_intercept=True, n_jobs=1, normalize=False)"
      ]
     },
     "execution_count": 31,
     "metadata": {},
     "output_type": "execute_result"
    }
   ],
   "source": [
    "model = LinearRegression()\n",
    "model.fit(team_names[predictor_cols],team_names.regular_occurrences)"
   ]
  },
  {
   "cell_type": "code",
   "execution_count": 32,
   "metadata": {},
   "outputs": [],
   "source": [
    "coefs = zip(predictor_cols,model.coef_)"
   ]
  },
  {
   "cell_type": "code",
   "execution_count": 33,
   "metadata": {},
   "outputs": [
    {
     "name": "stdout",
     "output_type": "stream",
     "text": [
      "Our model predicts that for a unit increase in Wins, a team will receive **-0.64** more mentions in the NYT during the regular season.\n",
      "\n",
      "Our model predicts that for a unit increase in Playoffs, a team will receive **27.0** more mentions in the NYT during the regular season.\n",
      "\n",
      "Our model predicts that for a unit increase in Conference, a team will receive **7.56** more mentions in the NYT during the regular season.\n",
      "\n",
      "Our model predicts that for a unit increase in New York Team, a team will receive **0.0** more mentions in the NYT during the regular season.\n",
      "\n"
     ]
    }
   ],
   "source": [
    "for coef in coefs:\n",
    "    print(f\"Our model predicts that for a unit increase in {coef[0]}, a team will receive **{round(coef[1],2)}** more mentions in the NYT during the regular season.\\n\")"
   ]
  },
  {
   "cell_type": "markdown",
   "metadata": {},
   "source": [
    "Even when discounting the New York teams winning games still appears to negatively impact the number of mentions. Clearly all the benefit of being a good team is correlated with performing well in the playoffs - each round a team will progress in future is worth 27 more mentions throughout the regular season."
   ]
  },
  {
   "cell_type": "markdown",
   "metadata": {},
   "source": [
    "## Remove Playoffs as a predictor:"
   ]
  },
  {
   "cell_type": "code",
   "execution_count": 34,
   "metadata": {},
   "outputs": [
    {
     "name": "stdout",
     "output_type": "stream",
     "text": [
      "Our model predicts that for a unit increase in Wins, a team will receive **1.62** more mentions in the NYT during the regular season.\n",
      "\n",
      "Our model predicts that for a unit increase in Conference, a team will receive **5.42** more mentions in the NYT during the regular season.\n",
      "\n"
     ]
    }
   ],
   "source": [
    "predictor_cols = ['Wins','Conference']\n",
    "model = LinearRegression()\n",
    "model.fit(team_names[predictor_cols],team_names.regular_occurrences)\n",
    "coefs = zip(predictor_cols,model.coef_)\n",
    "for coef in coefs:\n",
    "    print(f\"Our model predicts that for a unit increase in {coef[0]}, a team will receive **{round(coef[1],2)}** more mentions in the NYT during the regular season.\\n\")"
   ]
  },
  {
   "cell_type": "markdown",
   "metadata": {},
   "source": [
    "Finally in this case we see a benefit to receiving more wins."
   ]
  },
  {
   "cell_type": "markdown",
   "metadata": {},
   "source": [
    "Plotting this with seaborn:"
   ]
  },
  {
   "cell_type": "code",
   "execution_count": 35,
   "metadata": {},
   "outputs": [
    {
     "data": {
      "image/png": "[encoded data removed]",
      "text/plain": [
       "<Figure size 360x360 with 1 Axes>"
      ]
     },
     "metadata": {},
     "output_type": "display_data"
    }
   ],
   "source": [
    "g = sns.lmplot(x=\"Wins\", y=\"regular_occurrences\", data=team_names,fit_reg = True, legend = True)\n",
    "g.set_axis_labels(x_var = \"Number of Wins\", y_var = \"Mentions\")\n",
    "g.axes[0,0].set_xlim(0,82)\n",
    "plt.show()"
   ]
  },
  {
   "cell_type": "markdown",
   "metadata": {},
   "source": [
    "# Sentiment Analysis:"
   ]
  },
  {
   "cell_type": "markdown",
   "metadata": {},
   "source": [
    "What may be more interesting and insightful is if we can track the performance of teams based on the sentiment of articles written about them."
   ]
  },
  {
   "cell_type": "markdown",
   "metadata": {},
   "source": [
    "First create a dictionary that maps article title to article date:"
   ]
  },
  {
   "cell_type": "code",
   "execution_count": 36,
   "metadata": {},
   "outputs": [],
   "source": [
    "file_title = articles_list.article_urls.apply(lambda x : x.replace(\"/\",\"\").replace(\".\",\"\"))\n",
    "article_date = articles_list.date\n",
    "\n",
    "title_date_dict = dict(zip(file_title,article_date))"
   ]
  },
  {
   "cell_type": "markdown",
   "metadata": {},
   "source": [
    "Store each article as a list of paragraphs in dictionary mapping title to article:"
   ]
  },
  {
   "cell_type": "code",
   "execution_count": 42,
   "metadata": {},
   "outputs": [],
   "source": [
    "title_text_dict = dict()\n",
    "\n",
    "for article in file_title:\n",
    "    with open(f'nyt_scrape/new_articles/{article}.txt') as f:\n",
    "        title_text_dict[article] = f.read().replace('’','').replace('”','').replace('“','').replace('—','').split('\\n')"
   ]
  },
  {
   "cell_type": "markdown",
   "metadata": {},
   "source": [
    "## Comparing Sentiment classifiers:"
   ]
  },
  {
   "cell_type": "markdown",
   "metadata": {},
   "source": [
    "**TextBlob:**"
   ]
  },
  {
   "cell_type": "code",
   "execution_count": 81,
   "metadata": {},
   "outputs": [],
   "source": [
    "para = TextBlob(title_text_dict[file_title[0]][0])"
   ]
  },
  {
   "cell_type": "code",
   "execution_count": 82,
   "metadata": {},
   "outputs": [
    {
     "name": "stdout",
     "output_type": "stream",
     "text": [
      "The Golden State Warriors have ruined basketball. Sentiment(polarity=0.3, subjectivity=0.5)\n"
     ]
    }
   ],
   "source": [
    "print(para, para.sentiment)"
   ]
  },
  {
   "cell_type": "markdown",
   "metadata": {},
   "source": [
    "At first glance this sentiment analysis looks to be quite poor - we would hope this paragraph would register negative sentiment."
   ]
  },
  {
   "cell_type": "markdown",
   "metadata": {},
   "source": [
    "**Vader Sentiment:**"
   ]
  },
  {
   "cell_type": "code",
   "execution_count": 83,
   "metadata": {},
   "outputs": [],
   "source": [
    "from vaderSentiment.vaderSentiment import SentimentIntensityAnalyzer"
   ]
  },
  {
   "cell_type": "code",
   "execution_count": 84,
   "metadata": {},
   "outputs": [],
   "source": [
    "vader = SentimentIntensityAnalyzer()"
   ]
  },
  {
   "cell_type": "code",
   "execution_count": 85,
   "metadata": {},
   "outputs": [
    {
     "data": {
      "text/plain": [
       "{'neg': 0.341, 'neu': 0.659, 'pos': 0.0, 'compound': -0.4767}"
      ]
     },
     "execution_count": 85,
     "metadata": {},
     "output_type": "execute_result"
    }
   ],
   "source": [
    "vader.polarity_scores(para)"
   ]
  },
  {
   "cell_type": "markdown",
   "metadata": {},
   "source": [
    "Let's compare the two methods over the course of a wider article:"
   ]
  },
  {
   "cell_type": "code",
   "execution_count": 73,
   "metadata": {},
   "outputs": [
    {
     "name": "stdout",
     "output_type": "stream",
     "text": [
      "BOSTON  With a little help from his friends, though not that much, LeBron James dazzled once again in a playoff elimination game, sending the Cavaliers back to the N.B.A. finals on Sunday night and keeping himself in a Cleveland uniform for at least another two weeks.\n",
      "TextBlob Sentiment Scores:Sentiment(polarity=-0.1375, subjectivity=0.3)\n",
      "Vader Sentiment Scores:{'neg': 0.0, 'neu': 0.882, 'pos': 0.118, 'compound': 0.6712}\n",
      "\n",
      "\n",
      "In a game that looked bleak at the outset, with the Cavaliers playing without the injured Kevin Love, James powered an offense that started the game atrociously and then did just enough to break the upstart hearts of the young Boston Celtics, 87-79, in Game 7 of the Eastern Conference finals.\n",
      "TextBlob Sentiment Scores:Sentiment(polarity=-0.2875, subjectivity=0.5875)\n",
      "Vader Sentiment Scores:{'neg': 0.036, 'neu': 0.814, 'pos': 0.149, 'compound': 0.7398}\n",
      "\n",
      "\n",
      "James played all 48 minutes and finished with 35 points, 15 rebounds and 9 assists, missing a triple-double only because the Cavaliers missed 26 of 35 3-pointers, many of them uncontested shots set up by pinpoint passes from James.\n",
      "TextBlob Sentiment Scores:Sentiment(polarity=0.09999999999999999, subjectivity=0.5166666666666667)\n",
      "Vader Sentiment Scores:{'neg': 0.108, 'neu': 0.833, 'pos': 0.059, 'compound': -0.25}\n",
      "\n",
      "\n",
      "Fortunately for the Cavaliers, the Celtics were even worse, shooting 7 for 39 from behind the 3-point line. As a result, Bostons somewhat improbable playoff run, which came with two All-Star players  Gordon Hayward and Kyrie Irving  lost to injury, ended in stark disappointment. And with James triumphant once again.\n",
      "TextBlob Sentiment Scores:Sentiment(polarity=-0.24000000000000005, subjectivity=0.5999999999999999)\n",
      "Vader Sentiment Scores:{'neg': 0.199, 'neu': 0.743, 'pos': 0.059, 'compound': -0.7964}\n",
      "\n",
      "\n",
      "Weve been counted out for a long time this season, a sweat-drenched James said while slipping on his 2018 N.B.A. finals cap. After pointing out that the Celtics had been undefeated at home in the playoffs until Sunday, James saluted the forward Jeff Green, who started in Loves place and contributed 19 points and 8 rebounds for Cleveland.\n",
      "TextBlob Sentiment Scores:Sentiment(polarity=-0.11666666666666668, subjectivity=0.26666666666666666)\n",
      "Vader Sentiment Scores:{'neg': 0.0, 'neu': 0.936, 'pos': 0.064, 'compound': 0.5719}\n",
      "\n",
      "\n"
     ]
    }
   ],
   "source": [
    "for para in title_text_dict[file_title[25]][:5]:\n",
    "    print(f'{para}\\nTextBlob Sentiment Scores:{TextBlob(para).sentiment}\\nVader Sentiment Scores:{vader.polarity_scores(para)}\\n\\n')"
   ]
  },
  {
   "cell_type": "markdown",
   "metadata": {},
   "source": [
    "On balance, Vader Sentiment appears to be more accurately capturing the sentiment of the article."
   ]
  },
  {
   "cell_type": "markdown",
   "metadata": {},
   "source": [
    "## Golden State Warriors Sentiment Analysis:"
   ]
  },
  {
   "cell_type": "markdown",
   "metadata": {},
   "source": [
    "For every paragraph in every article, if \"Golden State\" or \"Warriors\" is found in the text of the article, we'll record the sentiment - storing average sentiment in article and number of mentions."
   ]
  },
  {
   "cell_type": "code",
   "execution_count": 86,
   "metadata": {},
   "outputs": [],
   "source": [
    "vader = SentimentIntensityAnalyzer()"
   ]
  },
  {
   "cell_type": "code",
   "execution_count": 88,
   "metadata": {},
   "outputs": [],
   "source": [
    "from collections import defaultdict"
   ]
  },
  {
   "cell_type": "code",
   "execution_count": 129,
   "metadata": {},
   "outputs": [],
   "source": [
    "title_sentiment_warriors = defaultdict(list)\n",
    "article_tuples = []\n",
    "\n",
    "for article in file_title:\n",
    "    for para in title_text_dict[article]:\n",
    "        if (\"Warriors\" in para or \"Golden State\" in para):\n",
    "            title_sentiment_warriors[article].append(vader.polarity_scores(para)['compound'])\n",
    "    if len(title_sentiment_warriors[article]) > 0:\n",
    "        article_tuples.append((article, np.sum(title_sentiment_warriors[article]),\n",
    "                                          len(title_sentiment_warriors[article]),\n",
    "                                            title_date_dict[article]))\n",
    "    else:\n",
    "        article_tuples.append((article,0,0,title_date_dict[article]))"
   ]
  },
  {
   "cell_type": "markdown",
   "metadata": {},
   "source": [
    "Example classification for an article:"
   ]
  },
  {
   "cell_type": "code",
   "execution_count": 132,
   "metadata": {},
   "outputs": [
    {
     "name": "stdout",
     "output_type": "stream",
     "text": [
      "('https:wwwnytimescom20180608sportslebron-james-free-agencyhtml', 2.2406, 7, Timestamp('2018-06-08 00:00:00'))\n",
      "CLEVELAND  The biggest revelation we got from LeBron James after what might have been the final game he ever plays for the Cleveland Cavaliers had nothing to do with his pending free agency. It was health-related.\n",
      "It turns out that the nasty poke in the left eye that James incurred from Draymond Green in Game 1 of the N.B.A. finals was not the most severe injury he suffered that night.\n",
      "From the postgame podium late Friday, after his Cavaliers were mercilessly broomed out of the finals by the Golden State Warriors, James had an admission to share: He hurt his right hand badly after that crushing Game 1 defeat in a self-inflicted fit of pique.\n",
      "Responding to reports that he punched a whiteboard in frustration with Clevelands blown opportunity to steal the series opener on the Warriors floor, James said: I let emotions get the best of me. Pretty much played the last three games with a broken hand.\n",
      "That should help explain why James, as he left Friday nights humbling 108-85 defeat with 4 mi ...\n"
     ]
    }
   ],
   "source": [
    "print(article_tuples[3])\n",
    "print('\\n'.join(title_text_dict[file_title[3]])[:1000],'...')"
   ]
  },
  {
   "cell_type": "code",
   "execution_count": 135,
   "metadata": {},
   "outputs": [],
   "source": [
    "sentiment_track = pd.DataFrame(article_tuples,columns = ['Title','Total Sentiment','Mentions','Date']).sort_values('Date')"
   ]
  },
  {
   "cell_type": "markdown",
   "metadata": {},
   "source": [
    "Add rolling sums:"
   ]
  },
  {
   "cell_type": "code",
   "execution_count": 144,
   "metadata": {},
   "outputs": [],
   "source": [
    "sentiment_track['Cumulative Sentiment'] = sentiment_track['Total Sentiment'].cumsum()\n",
    "sentiment_track['Cumulative Mentions'] = sentiment_track['Mentions'].cumsum()"
   ]
  },
  {
   "cell_type": "code",
   "execution_count": 145,
   "metadata": {},
   "outputs": [
    {
     "data": {
      "text/html": [
       "<div>\n",
       "<style scoped>\n",
       "    .dataframe tbody tr th:only-of-type {\n",
       "        vertical-align: middle;\n",
       "    }\n",
       "\n",
       "    .dataframe tbody tr th {\n",
       "        vertical-align: top;\n",
       "    }\n",
       "\n",
       "    .dataframe thead th {\n",
       "        text-align: right;\n",
       "    }\n",
       "</style>\n",
       "<table border=\"1\" class=\"dataframe\">\n",
       "  <thead>\n",
       "    <tr style=\"text-align: right;\">\n",
       "      <th></th>\n",
       "      <th>Title</th>\n",
       "      <th>Total Sentiment</th>\n",
       "      <th>Mentions</th>\n",
       "      <th>Date</th>\n",
       "      <th>Cumulative Sentiment</th>\n",
       "      <th>Cumulative Mentions</th>\n",
       "    </tr>\n",
       "  </thead>\n",
       "  <tbody>\n",
       "    <tr>\n",
       "      <th>319</th>\n",
       "      <td>https:wwwnytimescom20171012sportsjoel-embiid-7...</td>\n",
       "      <td>0.0000</td>\n",
       "      <td>0</td>\n",
       "      <td>2017-10-12</td>\n",
       "      <td>0.0000</td>\n",
       "      <td>0</td>\n",
       "    </tr>\n",
       "    <tr>\n",
       "      <th>318</th>\n",
       "      <td>https:wwwnytimescom20171016sportsbasketballnba...</td>\n",
       "      <td>2.1973</td>\n",
       "      <td>11</td>\n",
       "      <td>2017-10-16</td>\n",
       "      <td>2.1973</td>\n",
       "      <td>11</td>\n",
       "    </tr>\n",
       "    <tr>\n",
       "      <th>317</th>\n",
       "      <td>https:wwwnytimescom20171016sportsbasketballwnb...</td>\n",
       "      <td>0.0000</td>\n",
       "      <td>0</td>\n",
       "      <td>2017-10-16</td>\n",
       "      <td>2.1973</td>\n",
       "      <td>11</td>\n",
       "    </tr>\n",
       "    <tr>\n",
       "      <th>312</th>\n",
       "      <td>https:wwwnytimescom20171017sportsbasketballleb...</td>\n",
       "      <td>0.9274</td>\n",
       "      <td>1</td>\n",
       "      <td>2017-10-17</td>\n",
       "      <td>3.1247</td>\n",
       "      <td>12</td>\n",
       "    </tr>\n",
       "    <tr>\n",
       "      <th>313</th>\n",
       "      <td>https:wwwnytimescom20171017sportsbasketballwnb...</td>\n",
       "      <td>0.0000</td>\n",
       "      <td>0</td>\n",
       "      <td>2017-10-17</td>\n",
       "      <td>3.1247</td>\n",
       "      <td>12</td>\n",
       "    </tr>\n",
       "  </tbody>\n",
       "</table>\n",
       "</div>"
      ],
      "text/plain": [
       "                                                 Title  Total Sentiment  \\\n",
       "319  https:wwwnytimescom20171012sportsjoel-embiid-7...           0.0000   \n",
       "318  https:wwwnytimescom20171016sportsbasketballnba...           2.1973   \n",
       "317  https:wwwnytimescom20171016sportsbasketballwnb...           0.0000   \n",
       "312  https:wwwnytimescom20171017sportsbasketballleb...           0.9274   \n",
       "313  https:wwwnytimescom20171017sportsbasketballwnb...           0.0000   \n",
       "\n",
       "     Mentions       Date  Cumulative Sentiment  Cumulative Mentions  \n",
       "319         0 2017-10-12                0.0000                    0  \n",
       "318        11 2017-10-16                2.1973                   11  \n",
       "317         0 2017-10-16                2.1973                   11  \n",
       "312         1 2017-10-17                3.1247                   12  \n",
       "313         0 2017-10-17                3.1247                   12  "
      ]
     },
     "execution_count": 145,
     "metadata": {},
     "output_type": "execute_result"
    }
   ],
   "source": [
    "sentiment_track.head()"
   ]
  },
  {
   "cell_type": "markdown",
   "metadata": {},
   "source": [
    "Call a ready-made python script that scrapes the data and saves to csv files:"
   ]
  },
  {
   "cell_type": "code",
   "execution_count": 275,
   "metadata": {},
   "outputs": [
    {
     "name": "stdout",
     "output_type": "stream",
     "text": [
      "Complete! Output stored in GSW_results.csv and GSW_results_postseason.csv. Ready to load into memory :-)\r\n"
     ]
    }
   ],
   "source": [
    "! python player_stats/team_results_scrape.py GSW"
   ]
  },
  {
   "cell_type": "markdown",
   "metadata": {},
   "source": [
    "Note we provide the team acronym as a commandline input, if we use a dodgy acronym, we get this error message:"
   ]
  },
  {
   "cell_type": "code",
   "execution_count": 274,
   "metadata": {},
   "outputs": [
    {
     "name": "stdout",
     "output_type": "stream",
     "text": [
      "Either your internet connection is broken or you've used the wrong team acronym. Try again!\r\n"
     ]
    }
   ],
   "source": [
    "! python player_stats/team_results_scrape.py THISISNTATEAM"
   ]
  },
  {
   "cell_type": "markdown",
   "metadata": {},
   "source": [
    "Read the results files into memory:"
   ]
  },
  {
   "cell_type": "code",
   "execution_count": 271,
   "metadata": {},
   "outputs": [],
   "source": [
    "gsw_results_postseason = pd.read_csv('player_stats/GSW_results.csv', parse_dates=['Date'])\n",
    "gsw_results_postseason = pd.read_csv('player_stats/GSW_results_postseason.csv', parse_dates=['Date'])"
   ]
  },
  {
   "cell_type": "code",
   "execution_count": 272,
   "metadata": {},
   "outputs": [
    {
     "data": {
      "text/html": [
       "<div>\n",
       "<style scoped>\n",
       "    .dataframe tbody tr th:only-of-type {\n",
       "        vertical-align: middle;\n",
       "    }\n",
       "\n",
       "    .dataframe tbody tr th {\n",
       "        vertical-align: top;\n",
       "    }\n",
       "\n",
       "    .dataframe thead th {\n",
       "        text-align: right;\n",
       "    }\n",
       "</style>\n",
       "<table border=\"1\" class=\"dataframe\">\n",
       "  <thead>\n",
       "    <tr style=\"text-align: right;\">\n",
       "      <th></th>\n",
       "      <th>Date</th>\n",
       "      <th>Opponent</th>\n",
       "      <th>Tm</th>\n",
       "      <th>Opp</th>\n",
       "      <th>W</th>\n",
       "      <th>L</th>\n",
       "      <th>net_wins</th>\n",
       "      <th>win_flag</th>\n",
       "      <th>text</th>\n",
       "    </tr>\n",
       "  </thead>\n",
       "  <tbody>\n",
       "    <tr>\n",
       "      <th>0</th>\n",
       "      <td>2017-10-17</td>\n",
       "      <td>Houston Rockets</td>\n",
       "      <td>121.0</td>\n",
       "      <td>122.0</td>\n",
       "      <td>0.0</td>\n",
       "      <td>1.0</td>\n",
       "      <td>-1.0</td>\n",
       "      <td>L</td>\n",
       "      <td>L vs Houston Rockets (121-122)</td>\n",
       "    </tr>\n",
       "    <tr>\n",
       "      <th>1</th>\n",
       "      <td>2017-10-20</td>\n",
       "      <td>New Orleans Pelicans</td>\n",
       "      <td>128.0</td>\n",
       "      <td>120.0</td>\n",
       "      <td>1.0</td>\n",
       "      <td>1.0</td>\n",
       "      <td>0.0</td>\n",
       "      <td>W</td>\n",
       "      <td>W vs New Orleans Pelicans (128-120)</td>\n",
       "    </tr>\n",
       "    <tr>\n",
       "      <th>2</th>\n",
       "      <td>2017-10-21</td>\n",
       "      <td>Memphis Grizzlies</td>\n",
       "      <td>101.0</td>\n",
       "      <td>111.0</td>\n",
       "      <td>1.0</td>\n",
       "      <td>2.0</td>\n",
       "      <td>-1.0</td>\n",
       "      <td>L</td>\n",
       "      <td>L vs Memphis Grizzlies (101-111)</td>\n",
       "    </tr>\n",
       "    <tr>\n",
       "      <th>3</th>\n",
       "      <td>2017-10-23</td>\n",
       "      <td>Dallas Mavericks</td>\n",
       "      <td>133.0</td>\n",
       "      <td>103.0</td>\n",
       "      <td>2.0</td>\n",
       "      <td>2.0</td>\n",
       "      <td>0.0</td>\n",
       "      <td>W</td>\n",
       "      <td>W vs Dallas Mavericks (133-103)</td>\n",
       "    </tr>\n",
       "    <tr>\n",
       "      <th>4</th>\n",
       "      <td>2017-10-25</td>\n",
       "      <td>Toronto Raptors</td>\n",
       "      <td>117.0</td>\n",
       "      <td>112.0</td>\n",
       "      <td>3.0</td>\n",
       "      <td>2.0</td>\n",
       "      <td>1.0</td>\n",
       "      <td>W</td>\n",
       "      <td>W vs Toronto Raptors (117-112)</td>\n",
       "    </tr>\n",
       "  </tbody>\n",
       "</table>\n",
       "</div>"
      ],
      "text/plain": [
       "        Date              Opponent     Tm    Opp    W    L  net_wins win_flag  \\\n",
       "0 2017-10-17       Houston Rockets  121.0  122.0  0.0  1.0      -1.0        L   \n",
       "1 2017-10-20  New Orleans Pelicans  128.0  120.0  1.0  1.0       0.0        W   \n",
       "2 2017-10-21     Memphis Grizzlies  101.0  111.0  1.0  2.0      -1.0        L   \n",
       "3 2017-10-23      Dallas Mavericks  133.0  103.0  2.0  2.0       0.0        W   \n",
       "4 2017-10-25       Toronto Raptors  117.0  112.0  3.0  2.0       1.0        W   \n",
       "\n",
       "                                  text  \n",
       "0       L vs Houston Rockets (121-122)  \n",
       "1  W vs New Orleans Pelicans (128-120)  \n",
       "2     L vs Memphis Grizzlies (101-111)  \n",
       "3      W vs Dallas Mavericks (133-103)  \n",
       "4       W vs Toronto Raptors (117-112)  "
      ]
     },
     "execution_count": 272,
     "metadata": {},
     "output_type": "execute_result"
    }
   ],
   "source": [
    "gsw_results.head()"
   ]
  },
  {
   "cell_type": "code",
   "execution_count": 273,
   "metadata": {},
   "outputs": [
    {
     "data": {
      "text/html": [
       "<div>\n",
       "<style scoped>\n",
       "    .dataframe tbody tr th:only-of-type {\n",
       "        vertical-align: middle;\n",
       "    }\n",
       "\n",
       "    .dataframe tbody tr th {\n",
       "        vertical-align: top;\n",
       "    }\n",
       "\n",
       "    .dataframe thead th {\n",
       "        text-align: right;\n",
       "    }\n",
       "</style>\n",
       "<table border=\"1\" class=\"dataframe\">\n",
       "  <thead>\n",
       "    <tr style=\"text-align: right;\">\n",
       "      <th></th>\n",
       "      <th>Date</th>\n",
       "      <th>Opponent</th>\n",
       "      <th>Tm</th>\n",
       "      <th>Opp</th>\n",
       "      <th>W</th>\n",
       "      <th>L</th>\n",
       "      <th>net_wins</th>\n",
       "      <th>win_flag</th>\n",
       "      <th>text</th>\n",
       "    </tr>\n",
       "  </thead>\n",
       "  <tbody>\n",
       "    <tr>\n",
       "      <th>0</th>\n",
       "      <td>2018-04-14</td>\n",
       "      <td>San Antonio Spurs</td>\n",
       "      <td>113</td>\n",
       "      <td>92</td>\n",
       "      <td>1</td>\n",
       "      <td>0</td>\n",
       "      <td>1</td>\n",
       "      <td>W</td>\n",
       "      <td>W vs San Antonio Spurs (113-92)</td>\n",
       "    </tr>\n",
       "    <tr>\n",
       "      <th>1</th>\n",
       "      <td>2018-04-16</td>\n",
       "      <td>San Antonio Spurs</td>\n",
       "      <td>116</td>\n",
       "      <td>101</td>\n",
       "      <td>2</td>\n",
       "      <td>0</td>\n",
       "      <td>2</td>\n",
       "      <td>W</td>\n",
       "      <td>W vs San Antonio Spurs (116-101)</td>\n",
       "    </tr>\n",
       "    <tr>\n",
       "      <th>2</th>\n",
       "      <td>2018-04-19</td>\n",
       "      <td>San Antonio Spurs</td>\n",
       "      <td>110</td>\n",
       "      <td>97</td>\n",
       "      <td>3</td>\n",
       "      <td>0</td>\n",
       "      <td>3</td>\n",
       "      <td>W</td>\n",
       "      <td>W vs San Antonio Spurs (110-97)</td>\n",
       "    </tr>\n",
       "    <tr>\n",
       "      <th>3</th>\n",
       "      <td>2018-04-22</td>\n",
       "      <td>San Antonio Spurs</td>\n",
       "      <td>90</td>\n",
       "      <td>103</td>\n",
       "      <td>3</td>\n",
       "      <td>1</td>\n",
       "      <td>2</td>\n",
       "      <td>L</td>\n",
       "      <td>L vs San Antonio Spurs (90-103)</td>\n",
       "    </tr>\n",
       "    <tr>\n",
       "      <th>4</th>\n",
       "      <td>2018-04-24</td>\n",
       "      <td>San Antonio Spurs</td>\n",
       "      <td>99</td>\n",
       "      <td>91</td>\n",
       "      <td>4</td>\n",
       "      <td>1</td>\n",
       "      <td>3</td>\n",
       "      <td>W</td>\n",
       "      <td>W vs San Antonio Spurs (99-91)</td>\n",
       "    </tr>\n",
       "  </tbody>\n",
       "</table>\n",
       "</div>"
      ],
      "text/plain": [
       "        Date           Opponent   Tm  Opp  W  L  net_wins win_flag  \\\n",
       "0 2018-04-14  San Antonio Spurs  113   92  1  0         1        W   \n",
       "1 2018-04-16  San Antonio Spurs  116  101  2  0         2        W   \n",
       "2 2018-04-19  San Antonio Spurs  110   97  3  0         3        W   \n",
       "3 2018-04-22  San Antonio Spurs   90  103  3  1         2        L   \n",
       "4 2018-04-24  San Antonio Spurs   99   91  4  1         3        W   \n",
       "\n",
       "                               text  \n",
       "0   W vs San Antonio Spurs (113-92)  \n",
       "1  W vs San Antonio Spurs (116-101)  \n",
       "2   W vs San Antonio Spurs (110-97)  \n",
       "3   L vs San Antonio Spurs (90-103)  \n",
       "4    W vs San Antonio Spurs (99-91)  "
      ]
     },
     "execution_count": 273,
     "metadata": {},
     "output_type": "execute_result"
    }
   ],
   "source": [
    "gsw_results_postseason.head()"
   ]
  },
  {
   "cell_type": "markdown",
   "metadata": {},
   "source": [
    "Plot with plotly:"
   ]
  },
  {
   "cell_type": "code",
   "execution_count": 225,
   "metadata": {},
   "outputs": [],
   "source": [
    "import  plotly.plotly  as py\n",
    "import plotly.graph_objs as go"
   ]
  },
  {
   "cell_type": "code",
   "execution_count": 265,
   "metadata": {},
   "outputs": [],
   "source": [
    "trace0 = go.Scatter(\n",
    "    x = gsw_results.Date,\n",
    "    y = gsw_results.net_wins,\n",
    "    mode = 'lines+markers',\n",
    "    name = 'Net Wins (Regular Season)',\n",
    "    text=gsw_results.text,\n",
    "    hoverinfo='text'\n",
    ")"
   ]
  },
  {
   "cell_type": "code",
   "execution_count": 266,
   "metadata": {},
   "outputs": [],
   "source": [
    "trace1 = go.Scatter(\n",
    "    x = sentiment_track.Date,\n",
    "    y = sentiment_track['Cumulative Sentiment'],\n",
    "    mode = 'lines',\n",
    "    name = 'Cumulative Sentiment'\n",
    ")"
   ]
  },
  {
   "cell_type": "code",
   "execution_count": 267,
   "metadata": {},
   "outputs": [],
   "source": [
    "trace2 = go.Scatter(\n",
    "    x = gsw_results_postseason.Date,\n",
    "    y = gsw_results_postseason.net_wins,\n",
    "    mode = 'lines+markers',\n",
    "    name = 'Net Wins (Postseason)',\n",
    "    text=gsw_results_postseason.text,\n",
    "    hoverinfo='text'\n",
    ")"
   ]
  },
  {
   "cell_type": "code",
   "execution_count": 268,
   "metadata": {},
   "outputs": [],
   "source": [
    "trace3 = go.Bar(\n",
    "    x = sentiment_track.Date,\n",
    "    y = sentiment_track['Mentions'],\n",
    "    name = 'Daily Mentions'\n",
    ")"
   ]
  },
  {
   "cell_type": "code",
   "execution_count": 269,
   "metadata": {},
   "outputs": [],
   "source": [
    "layout = dict(title = 'Comparison of cumulative sentiment against GSW Record',\n",
    "              xaxis = dict(title = 'Date')\n",
    "              )"
   ]
  },
  {
   "cell_type": "code",
   "execution_count": 270,
   "metadata": {},
   "outputs": [
    {
     "data": {
      "text/html": [
       "<iframe id=\"igraph\" scrolling=\"no\" style=\"border:none;\" seamless=\"seamless\" src=\"https://plot.ly/~t2liu/28.embed\" height=\"525px\" width=\"100%\"></iframe>"
      ],
      "text/plain": [
       "<plotly.tools.PlotlyDisplay object>"
      ]
     },
     "execution_count": 270,
     "metadata": {},
     "output_type": "execute_result"
    }
   ],
   "source": [
    "fig = dict(data=[trace0,trace2,trace1,trace3], layout=layout)\n",
    "py.iplot(fig, filename='sentiment_vs_wins')"
   ]
  },
  {
   "cell_type": "code",
   "execution_count": null,
   "metadata": {},
   "outputs": [],
   "source": []
  }
 ],
 "metadata": {
  "kernelspec": {
   "display_name": "Python 3",
   "language": "python",
   "name": "python3"
  },
  "language_info": {
   "codemirror_mode": {
    "name": "ipython",
    "version": 3
   },
   "file_extension": ".py",
   "mimetype": "text/x-python",
   "name": "python",
   "nbconvert_exporter": "python",
   "pygments_lexer": "ipython3",
   "version": "3.6.5"
  }
 },
 "nbformat": 4,
 "nbformat_minor": 2
}
