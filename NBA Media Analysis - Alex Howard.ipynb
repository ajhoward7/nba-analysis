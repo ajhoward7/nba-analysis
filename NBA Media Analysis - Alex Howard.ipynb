{
 "cells": [
  {
   "cell_type": "markdown",
   "metadata": {},
   "source": [
    "# NBA Media Analysis - Final Report"
   ]
  },
  {
   "cell_type": "markdown",
   "metadata": {},
   "source": [
    "**Alexander Howard**"
   ]
  },
  {
   "cell_type": "code",
   "execution_count": 49,
   "metadata": {},
   "outputs": [],
   "source": [
    "import pandas as pd\n",
    "import  plotly.plotly  as py\n",
    "import os\n",
    "from textblob import TextBlob, Word\n",
    "from collections import Counter\n",
    "import seaborn as sns\n",
    "import matplotlib.pyplot as plt"
   ]
  },
  {
   "cell_type": "code",
   "execution_count": 51,
   "metadata": {},
   "outputs": [],
   "source": [
    "%matplotlib inline"
   ]
  },
  {
   "cell_type": "markdown",
   "metadata": {},
   "source": [
    "tl;dr The New York Times can predict the future!"
   ]
  },
  {
   "cell_type": "markdown",
   "metadata": {},
   "source": [
    "## Contents:\n",
    "\n",
    "1. Problem Statement & Data Acquisition\n",
    "2. Data Preprocessing\n",
    "3. Data Summarization and Visualisation\n",
    "4. Models\n",
    "5. GitHub Navigation\n",
    "6. X Factor"
   ]
  },
  {
   "cell_type": "markdown",
   "metadata": {},
   "source": [
    "## 1. Problem Statement"
   ]
  },
  {
   "cell_type": "markdown",
   "metadata": {},
   "source": [
    "**Goal:** This project looks to understand how the media reports on the NBA season. We want to examine how both teams and individuals players are reported - both in terms of the number of mentions they receive and the associated sentiment with this mention.\n",
    "\n",
    "The core aims of this project are to visualise this data for human exploration and to fit models that allow us to assess feature importance - which factors are most important to be represented in the media?"
   ]
  },
  {
   "cell_type": "markdown",
   "metadata": {},
   "source": [
    "### Data:\n",
    "\n",
    "All of the applicable data for this project was scraped from online sources.\n",
    "\n",
    "**Media articles:  **\n",
    "  \n",
    "- ESPN: fully functioning code is available in the `/espn_scrape/` directory of this project to scrape ESPN's NBA articles. Unfortunately the ESPN server for this portion of the website is currently down, so we are unable to use these results.  \n",
    "  \n",
    "  \n",
    "- New York Times: the text corpus of our dataset comprises every article in the NBA section of the New York Times website. The `/nyt_scrape/` directory contains all of the source code used to scrape this, including `nyt_scrape.py` which scrapes a list of article urls and `parse_article.py` which parses the raw HTML and saves the data as a .txt file. These files are also available in the `/nyt_scrape/articles/` directory.\n",
    "  \n",
    "  \n",
    "  \n",
    "  \n",
    "**NBA Stats:  **\n",
    "  \n",
    "All scraped stats data is listed in `/player_stats/` directory.  \n",
    "  \n",
    "  \n",
    "- BasketBall Reference: the 2017-18 schedule for each team can be scraped and processed using `! python team_results_scrape.py GSW` where 'GSW' is the appropriate team acronym. This code can actually be run by the user from the Jupyter console and the output csvs saved in the stats directory.  \n",
    "  \n",
    "  \n",
    "- ESPN: individual player statistics were scraped using `espn_player_scrape.py` and the output is stored in `player_stats.csv`\n",
    "  \n",
    "  \n",
    "- `team_names.csv` contains only an index of teams\n",
    "\n",
    "Note: the scope of this project only covers the reporting of teams within the media, this repo contains the full data to do the equivalent analysis for players though (requiring identical code), we leave this as an exercise to the reader ;-)"
   ]
  },
  {
   "cell_type": "markdown",
   "metadata": {},
   "source": [
    "## 2. Data Preprocessing"
   ]
  },
  {
   "cell_type": "markdown",
   "metadata": {},
   "source": [
    "A large portion of the data preprocessing was accounted for by correctly acquiring the text from online sources. Once obtained, this data was invariably clean. Using textblob, we experimented with lemmatization and tagging `/Notebooks/Data EDA and Initial POS tagging prototyping.ipynb` although this was less crucial to our final models.\n",
    "\n",
    "There were, however, two critical data processing problems that we had to solve with this data:  \n",
    "1. Named Entity Recognition: detecting player/team names is crucial to our analysis, so we require to use a method that will accurately identify the correct entity. We experimented (Section 3 `/Notebooks/Data EDA and Initial POS tagging prototyping.ipynb`) with using TextBlob and SpaCy for parts of speech tagging to isolate names (such as team names) and concluded that TextBlob was more appropriate due to it's faster computation time. This analysis did show that these methods produced results very similar to matching the relevant raw string, so this would prove to be sufficient in many cases. Results of this study:"
   ]
  },
  {
   "cell_type": "code",
   "execution_count": 2,
   "metadata": {},
   "outputs": [
    {
     "data": {
      "text/html": [
       "<div>\n",
       "<style scoped>\n",
       "    .dataframe tbody tr th:only-of-type {\n",
       "        vertical-align: middle;\n",
       "    }\n",
       "\n",
       "    .dataframe tbody tr th {\n",
       "        vertical-align: top;\n",
       "    }\n",
       "\n",
       "    .dataframe thead th {\n",
       "        text-align: right;\n",
       "    }\n",
       "</style>\n",
       "<table border=\"1\" class=\"dataframe\">\n",
       "  <thead>\n",
       "    <tr style=\"text-align: right;\">\n",
       "      <th></th>\n",
       "      <th>Name</th>\n",
       "      <th>Wins</th>\n",
       "      <th>Playoffs</th>\n",
       "      <th>Conference</th>\n",
       "      <th>New York Team</th>\n",
       "      <th>City</th>\n",
       "      <th>noun_occurrences</th>\n",
       "      <th>raw_occurrences</th>\n",
       "      <th>% difference</th>\n",
       "    </tr>\n",
       "  </thead>\n",
       "  <tbody>\n",
       "    <tr>\n",
       "      <th>0</th>\n",
       "      <td>Lakers</td>\n",
       "      <td>35</td>\n",
       "      <td>0</td>\n",
       "      <td>W</td>\n",
       "      <td>0</td>\n",
       "      <td>Los Angeles</td>\n",
       "      <td>103</td>\n",
       "      <td>103</td>\n",
       "      <td>0.000000</td>\n",
       "    </tr>\n",
       "    <tr>\n",
       "      <th>1</th>\n",
       "      <td>Cavaliers</td>\n",
       "      <td>50</td>\n",
       "      <td>4</td>\n",
       "      <td>E</td>\n",
       "      <td>0</td>\n",
       "      <td>Cleveland</td>\n",
       "      <td>370</td>\n",
       "      <td>369</td>\n",
       "      <td>-0.271003</td>\n",
       "    </tr>\n",
       "    <tr>\n",
       "      <th>2</th>\n",
       "      <td>Warriors</td>\n",
       "      <td>58</td>\n",
       "      <td>5</td>\n",
       "      <td>W</td>\n",
       "      <td>0</td>\n",
       "      <td>Golden State</td>\n",
       "      <td>521</td>\n",
       "      <td>525</td>\n",
       "      <td>0.761905</td>\n",
       "    </tr>\n",
       "    <tr>\n",
       "      <th>3</th>\n",
       "      <td>Celtics</td>\n",
       "      <td>55</td>\n",
       "      <td>3</td>\n",
       "      <td>E</td>\n",
       "      <td>0</td>\n",
       "      <td>Boston</td>\n",
       "      <td>302</td>\n",
       "      <td>297</td>\n",
       "      <td>-1.683502</td>\n",
       "    </tr>\n",
       "    <tr>\n",
       "      <th>4</th>\n",
       "      <td>Spurs</td>\n",
       "      <td>47</td>\n",
       "      <td>1</td>\n",
       "      <td>W</td>\n",
       "      <td>0</td>\n",
       "      <td>San Antonio</td>\n",
       "      <td>108</td>\n",
       "      <td>109</td>\n",
       "      <td>0.917431</td>\n",
       "    </tr>\n",
       "    <tr>\n",
       "      <th>5</th>\n",
       "      <td>76ers</td>\n",
       "      <td>52</td>\n",
       "      <td>2</td>\n",
       "      <td>E</td>\n",
       "      <td>0</td>\n",
       "      <td>Philadelphia</td>\n",
       "      <td>186</td>\n",
       "      <td>195</td>\n",
       "      <td>4.615385</td>\n",
       "    </tr>\n",
       "    <tr>\n",
       "      <th>6</th>\n",
       "      <td>Knicks</td>\n",
       "      <td>29</td>\n",
       "      <td>0</td>\n",
       "      <td>E</td>\n",
       "      <td>1</td>\n",
       "      <td>New York</td>\n",
       "      <td>590</td>\n",
       "      <td>591</td>\n",
       "      <td>0.169205</td>\n",
       "    </tr>\n",
       "    <tr>\n",
       "      <th>7</th>\n",
       "      <td>Bulls</td>\n",
       "      <td>27</td>\n",
       "      <td>0</td>\n",
       "      <td>E</td>\n",
       "      <td>0</td>\n",
       "      <td>Chicago</td>\n",
       "      <td>28</td>\n",
       "      <td>28</td>\n",
       "      <td>0.000000</td>\n",
       "    </tr>\n",
       "    <tr>\n",
       "      <th>8</th>\n",
       "      <td>Rockets</td>\n",
       "      <td>65</td>\n",
       "      <td>3</td>\n",
       "      <td>W</td>\n",
       "      <td>0</td>\n",
       "      <td>Houston</td>\n",
       "      <td>296</td>\n",
       "      <td>296</td>\n",
       "      <td>0.000000</td>\n",
       "    </tr>\n",
       "    <tr>\n",
       "      <th>9</th>\n",
       "      <td>Raptors</td>\n",
       "      <td>59</td>\n",
       "      <td>2</td>\n",
       "      <td>E</td>\n",
       "      <td>0</td>\n",
       "      <td>Toronto</td>\n",
       "      <td>153</td>\n",
       "      <td>150</td>\n",
       "      <td>-2.000000</td>\n",
       "    </tr>\n",
       "    <tr>\n",
       "      <th>10</th>\n",
       "      <td>Mavericks</td>\n",
       "      <td>24</td>\n",
       "      <td>0</td>\n",
       "      <td>W</td>\n",
       "      <td>0</td>\n",
       "      <td>Dallas</td>\n",
       "      <td>60</td>\n",
       "      <td>60</td>\n",
       "      <td>0.000000</td>\n",
       "    </tr>\n",
       "    <tr>\n",
       "      <th>11</th>\n",
       "      <td>Thunder</td>\n",
       "      <td>48</td>\n",
       "      <td>1</td>\n",
       "      <td>W</td>\n",
       "      <td>0</td>\n",
       "      <td>Oklahoma City</td>\n",
       "      <td>67</td>\n",
       "      <td>77</td>\n",
       "      <td>12.987013</td>\n",
       "    </tr>\n",
       "    <tr>\n",
       "      <th>12</th>\n",
       "      <td>Suns</td>\n",
       "      <td>21</td>\n",
       "      <td>0</td>\n",
       "      <td>W</td>\n",
       "      <td>0</td>\n",
       "      <td>Phoenix</td>\n",
       "      <td>41</td>\n",
       "      <td>42</td>\n",
       "      <td>2.380952</td>\n",
       "    </tr>\n",
       "    <tr>\n",
       "      <th>13</th>\n",
       "      <td>Heat</td>\n",
       "      <td>44</td>\n",
       "      <td>1</td>\n",
       "      <td>E</td>\n",
       "      <td>0</td>\n",
       "      <td>Miami</td>\n",
       "      <td>75</td>\n",
       "      <td>71</td>\n",
       "      <td>-5.633803</td>\n",
       "    </tr>\n",
       "    <tr>\n",
       "      <th>14</th>\n",
       "      <td>Hawks</td>\n",
       "      <td>24</td>\n",
       "      <td>0</td>\n",
       "      <td>E</td>\n",
       "      <td>0</td>\n",
       "      <td>Atlanta</td>\n",
       "      <td>32</td>\n",
       "      <td>32</td>\n",
       "      <td>0.000000</td>\n",
       "    </tr>\n",
       "    <tr>\n",
       "      <th>15</th>\n",
       "      <td>Timberwolves</td>\n",
       "      <td>47</td>\n",
       "      <td>1</td>\n",
       "      <td>W</td>\n",
       "      <td>0</td>\n",
       "      <td>Minnesota</td>\n",
       "      <td>46</td>\n",
       "      <td>52</td>\n",
       "      <td>11.538462</td>\n",
       "    </tr>\n",
       "    <tr>\n",
       "      <th>16</th>\n",
       "      <td>Hornets</td>\n",
       "      <td>36</td>\n",
       "      <td>0</td>\n",
       "      <td>E</td>\n",
       "      <td>0</td>\n",
       "      <td>Charlotte</td>\n",
       "      <td>31</td>\n",
       "      <td>32</td>\n",
       "      <td>3.125000</td>\n",
       "    </tr>\n",
       "    <tr>\n",
       "      <th>17</th>\n",
       "      <td>Clippers</td>\n",
       "      <td>42</td>\n",
       "      <td>0</td>\n",
       "      <td>W</td>\n",
       "      <td>0</td>\n",
       "      <td>Los Angeles</td>\n",
       "      <td>99</td>\n",
       "      <td>100</td>\n",
       "      <td>1.000000</td>\n",
       "    </tr>\n",
       "    <tr>\n",
       "      <th>18</th>\n",
       "      <td>Pistons</td>\n",
       "      <td>39</td>\n",
       "      <td>0</td>\n",
       "      <td>E</td>\n",
       "      <td>0</td>\n",
       "      <td>Detroit</td>\n",
       "      <td>37</td>\n",
       "      <td>37</td>\n",
       "      <td>0.000000</td>\n",
       "    </tr>\n",
       "    <tr>\n",
       "      <th>19</th>\n",
       "      <td>Pacers</td>\n",
       "      <td>48</td>\n",
       "      <td>1</td>\n",
       "      <td>E</td>\n",
       "      <td>0</td>\n",
       "      <td>Indiana</td>\n",
       "      <td>91</td>\n",
       "      <td>90</td>\n",
       "      <td>-1.111111</td>\n",
       "    </tr>\n",
       "    <tr>\n",
       "      <th>20</th>\n",
       "      <td>Blazers</td>\n",
       "      <td>49</td>\n",
       "      <td>1</td>\n",
       "      <td>W</td>\n",
       "      <td>0</td>\n",
       "      <td>Portland</td>\n",
       "      <td>44</td>\n",
       "      <td>42</td>\n",
       "      <td>-4.761905</td>\n",
       "    </tr>\n",
       "    <tr>\n",
       "      <th>21</th>\n",
       "      <td>Bucks</td>\n",
       "      <td>44</td>\n",
       "      <td>1</td>\n",
       "      <td>E</td>\n",
       "      <td>0</td>\n",
       "      <td>Milwaukee</td>\n",
       "      <td>62</td>\n",
       "      <td>58</td>\n",
       "      <td>-6.896552</td>\n",
       "    </tr>\n",
       "    <tr>\n",
       "      <th>22</th>\n",
       "      <td>Wizards</td>\n",
       "      <td>43</td>\n",
       "      <td>0</td>\n",
       "      <td>E</td>\n",
       "      <td>0</td>\n",
       "      <td>Washington</td>\n",
       "      <td>61</td>\n",
       "      <td>58</td>\n",
       "      <td>-5.172414</td>\n",
       "    </tr>\n",
       "    <tr>\n",
       "      <th>23</th>\n",
       "      <td>Magic</td>\n",
       "      <td>25</td>\n",
       "      <td>0</td>\n",
       "      <td>E</td>\n",
       "      <td>0</td>\n",
       "      <td>Orlando</td>\n",
       "      <td>45</td>\n",
       "      <td>42</td>\n",
       "      <td>-7.142857</td>\n",
       "    </tr>\n",
       "    <tr>\n",
       "      <th>24</th>\n",
       "      <td>Nets</td>\n",
       "      <td>28</td>\n",
       "      <td>0</td>\n",
       "      <td>E</td>\n",
       "      <td>1</td>\n",
       "      <td>Brooklyn</td>\n",
       "      <td>146</td>\n",
       "      <td>150</td>\n",
       "      <td>2.666667</td>\n",
       "    </tr>\n",
       "    <tr>\n",
       "      <th>25</th>\n",
       "      <td>Grizzlies</td>\n",
       "      <td>22</td>\n",
       "      <td>0</td>\n",
       "      <td>E</td>\n",
       "      <td>0</td>\n",
       "      <td>Memphis</td>\n",
       "      <td>29</td>\n",
       "      <td>29</td>\n",
       "      <td>0.000000</td>\n",
       "    </tr>\n",
       "    <tr>\n",
       "      <th>26</th>\n",
       "      <td>Kings</td>\n",
       "      <td>27</td>\n",
       "      <td>0</td>\n",
       "      <td>W</td>\n",
       "      <td>0</td>\n",
       "      <td>Sacramento</td>\n",
       "      <td>52</td>\n",
       "      <td>52</td>\n",
       "      <td>0.000000</td>\n",
       "    </tr>\n",
       "    <tr>\n",
       "      <th>27</th>\n",
       "      <td>Nuggets</td>\n",
       "      <td>46</td>\n",
       "      <td>0</td>\n",
       "      <td>W</td>\n",
       "      <td>0</td>\n",
       "      <td>Denver</td>\n",
       "      <td>38</td>\n",
       "      <td>38</td>\n",
       "      <td>0.000000</td>\n",
       "    </tr>\n",
       "    <tr>\n",
       "      <th>28</th>\n",
       "      <td>Jazz</td>\n",
       "      <td>48</td>\n",
       "      <td>2</td>\n",
       "      <td>W</td>\n",
       "      <td>0</td>\n",
       "      <td>Utah</td>\n",
       "      <td>65</td>\n",
       "      <td>51</td>\n",
       "      <td>-27.450980</td>\n",
       "    </tr>\n",
       "    <tr>\n",
       "      <th>29</th>\n",
       "      <td>Pelicans</td>\n",
       "      <td>48</td>\n",
       "      <td>2</td>\n",
       "      <td>W</td>\n",
       "      <td>0</td>\n",
       "      <td>New Orleans</td>\n",
       "      <td>106</td>\n",
       "      <td>104</td>\n",
       "      <td>-1.923077</td>\n",
       "    </tr>\n",
       "  </tbody>\n",
       "</table>\n",
       "</div>"
      ],
      "text/plain": [
       "            Name  Wins  Playoffs Conference  New York Team           City  \\\n",
       "0         Lakers    35         0          W              0    Los Angeles   \n",
       "1      Cavaliers    50         4          E              0      Cleveland   \n",
       "2       Warriors    58         5          W              0   Golden State   \n",
       "3        Celtics    55         3          E              0         Boston   \n",
       "4          Spurs    47         1          W              0    San Antonio   \n",
       "5          76ers    52         2          E              0   Philadelphia   \n",
       "6         Knicks    29         0          E              1       New York   \n",
       "7          Bulls    27         0          E              0        Chicago   \n",
       "8        Rockets    65         3          W              0        Houston   \n",
       "9        Raptors    59         2          E              0        Toronto   \n",
       "10     Mavericks    24         0          W              0         Dallas   \n",
       "11       Thunder    48         1          W              0  Oklahoma City   \n",
       "12          Suns    21         0          W              0        Phoenix   \n",
       "13          Heat    44         1          E              0          Miami   \n",
       "14         Hawks    24         0          E              0        Atlanta   \n",
       "15  Timberwolves    47         1          W              0      Minnesota   \n",
       "16       Hornets    36         0          E              0      Charlotte   \n",
       "17      Clippers    42         0          W              0    Los Angeles   \n",
       "18       Pistons    39         0          E              0        Detroit   \n",
       "19        Pacers    48         1          E              0        Indiana   \n",
       "20       Blazers    49         1          W              0       Portland   \n",
       "21         Bucks    44         1          E              0      Milwaukee   \n",
       "22       Wizards    43         0          E              0     Washington   \n",
       "23         Magic    25         0          E              0        Orlando   \n",
       "24          Nets    28         0          E              1       Brooklyn   \n",
       "25     Grizzlies    22         0          E              0        Memphis   \n",
       "26         Kings    27         0          W              0     Sacramento   \n",
       "27       Nuggets    46         0          W              0         Denver   \n",
       "28          Jazz    48         2          W              0           Utah   \n",
       "29      Pelicans    48         2          W              0    New Orleans   \n",
       "\n",
       "    noun_occurrences  raw_occurrences  % difference  \n",
       "0                103              103      0.000000  \n",
       "1                370              369     -0.271003  \n",
       "2                521              525      0.761905  \n",
       "3                302              297     -1.683502  \n",
       "4                108              109      0.917431  \n",
       "5                186              195      4.615385  \n",
       "6                590              591      0.169205  \n",
       "7                 28               28      0.000000  \n",
       "8                296              296      0.000000  \n",
       "9                153              150     -2.000000  \n",
       "10                60               60      0.000000  \n",
       "11                67               77     12.987013  \n",
       "12                41               42      2.380952  \n",
       "13                75               71     -5.633803  \n",
       "14                32               32      0.000000  \n",
       "15                46               52     11.538462  \n",
       "16                31               32      3.125000  \n",
       "17                99              100      1.000000  \n",
       "18                37               37      0.000000  \n",
       "19                91               90     -1.111111  \n",
       "20                44               42     -4.761905  \n",
       "21                62               58     -6.896552  \n",
       "22                61               58     -5.172414  \n",
       "23                45               42     -7.142857  \n",
       "24               146              150      2.666667  \n",
       "25                29               29      0.000000  \n",
       "26                52               52      0.000000  \n",
       "27                38               38      0.000000  \n",
       "28                65               51    -27.450980  \n",
       "29               106              104     -1.923077  "
      ]
     },
     "execution_count": 2,
     "metadata": {},
     "output_type": "execute_result"
    }
   ],
   "source": [
    "NER_raw_comparison = pd.read_csv('Notebooks/NER_vs_raw_strings.csv')\n",
    "NER_raw_comparison"
   ]
  },
  {
   "cell_type": "markdown",
   "metadata": {},
   "source": [
    "2. Sentiment Analyser: detecting article sentiment was also very important to our project. We trialled two methods - TextBlob and Vader Sentiment and found that Vader Sentiment performed much better. Code can be found at Section 4 `/Notebooks/Data EDA and Initial POS tagging prototyping.ipynb`)"
   ]
  },
  {
   "cell_type": "markdown",
   "metadata": {},
   "source": [
    "## 3. Data Summary and Visualisations"
   ]
  },
  {
   "cell_type": "markdown",
   "metadata": {},
   "source": [
    "Along with the illustrative data frames that we created from our data, we created two key visualisations.\n",
    "\n",
    "Firstly, this figure shows the number of regular season wins for each team plotted against the total number of mentions in the New York Times:"
   ]
  },
  {
   "cell_type": "markdown",
   "metadata": {},
   "source": [
    "![Regular Season Wins vs Total Mentions](Notebooks/wins_mentions.png)"
   ]
  },
  {
   "cell_type": "markdown",
   "metadata": {},
   "source": [
    "From this graph we clearly see one outlier with ~30 wins and 3x as many mentions as any other team - this turns out to be the New York Knicks, who are clearly reported on in much more depth due to the hometown nature of this team. The Brooklyn Nets also appear as the team who didn't reach the playoffs that have 2nd most mentions."
   ]
  },
  {
   "cell_type": "markdown",
   "metadata": {},
   "source": [
    "Secondly, the most powerful and interactive output of our whole project allows the user to define a team (by it's acronym, e.g. GSW) and run the following cells to scrape the schedule of this team and plot it against mentions in the news. This part should be fully interactive if you clone the repository and have the correct packages installed!"
   ]
  },
  {
   "cell_type": "code",
   "execution_count": 3,
   "metadata": {},
   "outputs": [],
   "source": [
    "team_accronym = \"PHI\"\n",
    "team_city = \"Philadelphia\"\n",
    "team_name = \"76ers\""
   ]
  },
  {
   "cell_type": "markdown",
   "metadata": {},
   "source": [
    "Insert accronym to command line argument:"
   ]
  },
  {
   "cell_type": "code",
   "execution_count": 4,
   "metadata": {},
   "outputs": [
    {
     "name": "stdout",
     "output_type": "stream",
     "text": [
      "Complete! Output stored in PHI_results.csv and PHI_results_postseason.csv. Ready to load into memory :-)\r\n"
     ]
    }
   ],
   "source": [
    "! python player_stats/team_results_scrape.py PHI"
   ]
  },
  {
   "cell_type": "markdown",
   "metadata": {},
   "source": [
    "Import some helper functions:"
   ]
  },
  {
   "cell_type": "code",
   "execution_count": 5,
   "metadata": {},
   "outputs": [],
   "source": [
    "from helper_functions import load_articles, compute_sentiment, plotly_plotting"
   ]
  },
  {
   "cell_type": "code",
   "execution_count": 6,
   "metadata": {},
   "outputs": [],
   "source": [
    "articles_list = pd.read_csv('nyt_scrape/articles_list_w_date.csv',parse_dates=['date'])"
   ]
  },
  {
   "cell_type": "code",
   "execution_count": 7,
   "metadata": {},
   "outputs": [],
   "source": [
    "title_date_dict, title_text_dict, file_title = load_articles(articles_list)"
   ]
  },
  {
   "cell_type": "code",
   "execution_count": 8,
   "metadata": {},
   "outputs": [],
   "source": [
    "sentiment_track = compute_sentiment(title_date_dict, title_text_dict, file_title, team_name, team_city)"
   ]
  },
  {
   "cell_type": "code",
   "execution_count": 9,
   "metadata": {},
   "outputs": [],
   "source": [
    "results = pd.read_csv('player_stats/{}_results.csv'.format(team_accronym), parse_dates=['Date'])\n",
    "# Add this line if team made postseason:\n",
    "results_postseason = pd.read_csv('player_stats/{}_results_postseason.csv'.format(team_accronym), parse_dates=['Date'])"
   ]
  },
  {
   "cell_type": "code",
   "execution_count": 10,
   "metadata": {},
   "outputs": [
    {
     "data": {
      "text/html": [
       "<iframe id=\"igraph\" scrolling=\"no\" style=\"border:none;\" seamless=\"seamless\" src=\"https://plot.ly/~t2liu/28.embed\" height=\"525px\" width=\"100%\"></iframe>"
      ],
      "text/plain": [
       "<plotly.tools.PlotlyDisplay object>"
      ]
     },
     "execution_count": 10,
     "metadata": {},
     "output_type": "execute_result"
    }
   ],
   "source": [
    "fig = plotly_plotting(sentiment_track, results, results_postseason) # add 'results_postseason' as third argument only if team made playoffs\n",
    "py.iplot(fig, filename='sentiment_vs_wins')"
   ]
  },
  {
   "cell_type": "markdown",
   "metadata": {},
   "source": [
    "## 4. Models"
   ]
  },
  {
   "cell_type": "markdown",
   "metadata": {},
   "source": [
    "Our modelling interests lie in understanding the relationship between the number of mentions a team receives and various team statistics. For this purpose, let's use the entire corpus we have.\n",
    "\n",
    "Below we present a shortened version of the code - full code can be found in `Notebooks/Team Frequency Analysis.ipynb`."
   ]
  },
  {
   "cell_type": "markdown",
   "metadata": {},
   "source": [
    "Read in files:"
   ]
  },
  {
   "cell_type": "code",
   "execution_count": 22,
   "metadata": {},
   "outputs": [],
   "source": [
    "dir_list = os.listdir('nyt_scrape/articles')\n",
    "\n",
    "corpus = ''\n",
    "\n",
    "for article in dir_list:\n",
    "    with open(f'nyt_scrape/articles/{article}') as f:\n",
    "        corpus += f.read()\n",
    "        corpus += '\\n'\n",
    "\n",
    "corpus = corpus.replace('’','').replace('”','').replace('“','').replace('—','')\n",
    "\n",
    "corpus_blob = TextBlob(corpus)"
   ]
  },
  {
   "cell_type": "markdown",
   "metadata": {},
   "source": [
    "Count Noun Entities:"
   ]
  },
  {
   "cell_type": "markdown",
   "metadata": {},
   "source": [
    "Let's first define a handy function that takes the corpus and produces counter of noun tags:"
   ]
  },
  {
   "cell_type": "code",
   "execution_count": 31,
   "metadata": {},
   "outputs": [],
   "source": [
    "def count_noun_tags(corpus_blob):\n",
    "    tags = corpus_blob.pos_tags\n",
    "    tags = [tag for tag in tags if tag[1] in {'NN','NNS','NNP','NNPS'}]\n",
    "    tags = [Word(tag[0].lower()) for tag in tags]\n",
    "    lemma_tags = [tag.lemmatize() for tag in tags]\n",
    "    lemma_tags = [tag for tag in tags if tag not in ['s','t']]\n",
    "    c = Counter(lemma_tags)\n",
    "    \n",
    "    return c\n",
    "    "
   ]
  },
  {
   "cell_type": "code",
   "execution_count": 32,
   "metadata": {},
   "outputs": [],
   "source": [
    "c = count_noun_tags(corpus_blob)"
   ]
  },
  {
   "cell_type": "markdown",
   "metadata": {},
   "source": [
    "Read in data about teams:"
   ]
  },
  {
   "cell_type": "code",
   "execution_count": 29,
   "metadata": {},
   "outputs": [],
   "source": [
    "team_names = pd.read_csv('player_stats/team_names.csv')\n",
    "playoff_dict = {0:'DNQ',1:'First Round',2:'Second Round',3:'Conference Finals',4:'NBA Finals',5:'Champion'}  # Decoding\n",
    "team_names['playoff_round'] = team_names.Playoffs.apply(lambda x : playoff_dict[x])\n",
    "names = list(team_names['Name'])"
   ]
  },
  {
   "cell_type": "markdown",
   "metadata": {},
   "source": [
    "Count number of matching noun occurrences:"
   ]
  },
  {
   "cell_type": "code",
   "execution_count": 30,
   "metadata": {},
   "outputs": [
    {
     "data": {
      "text/html": [
       "<div>\n",
       "<style scoped>\n",
       "    .dataframe tbody tr th:only-of-type {\n",
       "        vertical-align: middle;\n",
       "    }\n",
       "\n",
       "    .dataframe tbody tr th {\n",
       "        vertical-align: top;\n",
       "    }\n",
       "\n",
       "    .dataframe thead th {\n",
       "        text-align: right;\n",
       "    }\n",
       "</style>\n",
       "<table border=\"1\" class=\"dataframe\">\n",
       "  <thead>\n",
       "    <tr style=\"text-align: right;\">\n",
       "      <th></th>\n",
       "      <th>Name</th>\n",
       "      <th>Wins</th>\n",
       "      <th>Playoffs</th>\n",
       "      <th>Conference</th>\n",
       "      <th>New York Team</th>\n",
       "      <th>City</th>\n",
       "      <th>playoff_round</th>\n",
       "      <th>noun_occurrences</th>\n",
       "    </tr>\n",
       "  </thead>\n",
       "  <tbody>\n",
       "    <tr>\n",
       "      <th>6</th>\n",
       "      <td>Knicks</td>\n",
       "      <td>29</td>\n",
       "      <td>0</td>\n",
       "      <td>E</td>\n",
       "      <td>1</td>\n",
       "      <td>New York</td>\n",
       "      <td>DNQ</td>\n",
       "      <td>590</td>\n",
       "    </tr>\n",
       "    <tr>\n",
       "      <th>2</th>\n",
       "      <td>Warriors</td>\n",
       "      <td>58</td>\n",
       "      <td>5</td>\n",
       "      <td>W</td>\n",
       "      <td>0</td>\n",
       "      <td>Golden State</td>\n",
       "      <td>Champion</td>\n",
       "      <td>521</td>\n",
       "    </tr>\n",
       "    <tr>\n",
       "      <th>1</th>\n",
       "      <td>Cavaliers</td>\n",
       "      <td>50</td>\n",
       "      <td>4</td>\n",
       "      <td>E</td>\n",
       "      <td>0</td>\n",
       "      <td>Cleveland</td>\n",
       "      <td>NBA Finals</td>\n",
       "      <td>370</td>\n",
       "    </tr>\n",
       "    <tr>\n",
       "      <th>3</th>\n",
       "      <td>Celtics</td>\n",
       "      <td>55</td>\n",
       "      <td>3</td>\n",
       "      <td>E</td>\n",
       "      <td>0</td>\n",
       "      <td>Boston</td>\n",
       "      <td>Conference Finals</td>\n",
       "      <td>302</td>\n",
       "    </tr>\n",
       "    <tr>\n",
       "      <th>8</th>\n",
       "      <td>Rockets</td>\n",
       "      <td>65</td>\n",
       "      <td>3</td>\n",
       "      <td>W</td>\n",
       "      <td>0</td>\n",
       "      <td>Houston</td>\n",
       "      <td>Conference Finals</td>\n",
       "      <td>296</td>\n",
       "    </tr>\n",
       "  </tbody>\n",
       "</table>\n",
       "</div>"
      ],
      "text/plain": [
       "        Name  Wins  Playoffs Conference  New York Team          City  \\\n",
       "6     Knicks    29         0          E              1      New York   \n",
       "2   Warriors    58         5          W              0  Golden State   \n",
       "1  Cavaliers    50         4          E              0     Cleveland   \n",
       "3    Celtics    55         3          E              0        Boston   \n",
       "8    Rockets    65         3          W              0       Houston   \n",
       "\n",
       "       playoff_round  noun_occurrences  \n",
       "6                DNQ               590  \n",
       "2           Champion               521  \n",
       "1         NBA Finals               370  \n",
       "3  Conference Finals               302  \n",
       "8  Conference Finals               296  "
      ]
     },
     "execution_count": 30,
     "metadata": {},
     "output_type": "execute_result"
    }
   ],
   "source": [
    "team_names['noun_occurrences'] = [c[name.lower()] for name in names]\n",
    "team_names.sort_values(['noun_occurrences'],ascending=False).head()"
   ]
  },
  {
   "cell_type": "markdown",
   "metadata": {},
   "source": [
    "This data can be found in the first plot of section 3."
   ]
  },
  {
   "cell_type": "markdown",
   "metadata": {},
   "source": [
    "**Regular Season:**"
   ]
  },
  {
   "cell_type": "markdown",
   "metadata": {},
   "source": [
    "For greater parity, let's restrict our data to only the regular season:"
   ]
  },
  {
   "cell_type": "code",
   "execution_count": 34,
   "metadata": {},
   "outputs": [],
   "source": [
    "postseason_start = pd.to_datetime('2018-04-14')\n",
    "\n",
    "articles_list['regular_season'] = articles_list.date < postseason_start\n",
    "\n",
    "regular_season_corpus = ''\n",
    "\n",
    "for index, row in articles_list.iterrows():\n",
    "    if row['regular_season']:\n",
    "        article = row[\"article_urls\"].replace(\"/\",\"\").replace(\".\",\"\")\n",
    "        with open(f'nyt_scrape/articles/{article}.txt') as f:\n",
    "            regular_season_corpus += f.read()\n",
    "            regular_season_corpus += '\\n'"
   ]
  },
  {
   "cell_type": "code",
   "execution_count": 36,
   "metadata": {},
   "outputs": [],
   "source": [
    "c = count_noun_tags(TextBlob(regular_season_corpus))"
   ]
  },
  {
   "cell_type": "code",
   "execution_count": 38,
   "metadata": {},
   "outputs": [
    {
     "data": {
      "text/html": [
       "<div>\n",
       "<style scoped>\n",
       "    .dataframe tbody tr th:only-of-type {\n",
       "        vertical-align: middle;\n",
       "    }\n",
       "\n",
       "    .dataframe tbody tr th {\n",
       "        vertical-align: top;\n",
       "    }\n",
       "\n",
       "    .dataframe thead th {\n",
       "        text-align: right;\n",
       "    }\n",
       "</style>\n",
       "<table border=\"1\" class=\"dataframe\">\n",
       "  <thead>\n",
       "    <tr style=\"text-align: right;\">\n",
       "      <th></th>\n",
       "      <th>Name</th>\n",
       "      <th>Wins</th>\n",
       "      <th>Playoffs</th>\n",
       "      <th>Conference</th>\n",
       "      <th>New York Team</th>\n",
       "      <th>City</th>\n",
       "      <th>playoff_round</th>\n",
       "      <th>noun_occurrences</th>\n",
       "      <th>regular_occurrences</th>\n",
       "    </tr>\n",
       "  </thead>\n",
       "  <tbody>\n",
       "    <tr>\n",
       "      <th>6</th>\n",
       "      <td>Knicks</td>\n",
       "      <td>29</td>\n",
       "      <td>0</td>\n",
       "      <td>E</td>\n",
       "      <td>1</td>\n",
       "      <td>New York</td>\n",
       "      <td>DNQ</td>\n",
       "      <td>590</td>\n",
       "      <td>559</td>\n",
       "    </tr>\n",
       "    <tr>\n",
       "      <th>2</th>\n",
       "      <td>Warriors</td>\n",
       "      <td>58</td>\n",
       "      <td>5</td>\n",
       "      <td>W</td>\n",
       "      <td>0</td>\n",
       "      <td>Golden State</td>\n",
       "      <td>Champion</td>\n",
       "      <td>521</td>\n",
       "      <td>168</td>\n",
       "    </tr>\n",
       "    <tr>\n",
       "      <th>1</th>\n",
       "      <td>Cavaliers</td>\n",
       "      <td>50</td>\n",
       "      <td>4</td>\n",
       "      <td>E</td>\n",
       "      <td>0</td>\n",
       "      <td>Cleveland</td>\n",
       "      <td>NBA Finals</td>\n",
       "      <td>370</td>\n",
       "      <td>147</td>\n",
       "    </tr>\n",
       "    <tr>\n",
       "      <th>24</th>\n",
       "      <td>Nets</td>\n",
       "      <td>28</td>\n",
       "      <td>0</td>\n",
       "      <td>E</td>\n",
       "      <td>1</td>\n",
       "      <td>Brooklyn</td>\n",
       "      <td>DNQ</td>\n",
       "      <td>146</td>\n",
       "      <td>145</td>\n",
       "    </tr>\n",
       "    <tr>\n",
       "      <th>3</th>\n",
       "      <td>Celtics</td>\n",
       "      <td>55</td>\n",
       "      <td>3</td>\n",
       "      <td>E</td>\n",
       "      <td>0</td>\n",
       "      <td>Boston</td>\n",
       "      <td>Conference Finals</td>\n",
       "      <td>302</td>\n",
       "      <td>130</td>\n",
       "    </tr>\n",
       "  </tbody>\n",
       "</table>\n",
       "</div>"
      ],
      "text/plain": [
       "         Name  Wins  Playoffs Conference  New York Team          City  \\\n",
       "6      Knicks    29         0          E              1      New York   \n",
       "2    Warriors    58         5          W              0  Golden State   \n",
       "1   Cavaliers    50         4          E              0     Cleveland   \n",
       "24       Nets    28         0          E              1      Brooklyn   \n",
       "3     Celtics    55         3          E              0        Boston   \n",
       "\n",
       "        playoff_round  noun_occurrences  regular_occurrences  \n",
       "6                 DNQ               590                  559  \n",
       "2            Champion               521                  168  \n",
       "1          NBA Finals               370                  147  \n",
       "24                DNQ               146                  145  \n",
       "3   Conference Finals               302                  130  "
      ]
     },
     "execution_count": 38,
     "metadata": {},
     "output_type": "execute_result"
    }
   ],
   "source": [
    "team_names['regular_occurrences'] = [c[name.lower()] for name in names]\n",
    "team_names.sort_values(['regular_occurrences'],ascending=False).head()"
   ]
  },
  {
   "cell_type": "markdown",
   "metadata": {},
   "source": [
    "### Linear Model:"
   ]
  },
  {
   "cell_type": "markdown",
   "metadata": {},
   "source": [
    "Now we try to fit a Linear Model to understand the most important factors in increasing the number of mentions for each team."
   ]
  },
  {
   "cell_type": "markdown",
   "metadata": {},
   "source": [
    "For this purpose, we drop the Knicks and Nets from our dataset, since they obviously corrupt the data."
   ]
  },
  {
   "cell_type": "code",
   "execution_count": 39,
   "metadata": {},
   "outputs": [],
   "source": [
    "team_names.drop([6,24],inplace=True)  # Drop Knicks, Nets"
   ]
  },
  {
   "cell_type": "code",
   "execution_count": 41,
   "metadata": {},
   "outputs": [],
   "source": [
    "team_names.Conference = team_names.Conference.apply(lambda x : 0 if x==\"E\" else 1)  # Numeric Encoding"
   ]
  },
  {
   "cell_type": "code",
   "execution_count": 42,
   "metadata": {},
   "outputs": [],
   "source": [
    "from sklearn.linear_model import LinearRegression\n",
    "model = LinearRegression()"
   ]
  },
  {
   "cell_type": "markdown",
   "metadata": {},
   "source": [
    "Define predicor columns:"
   ]
  },
  {
   "cell_type": "code",
   "execution_count": 43,
   "metadata": {},
   "outputs": [],
   "source": [
    "predictor_cols = ['Wins','Playoffs','Conference']"
   ]
  },
  {
   "cell_type": "markdown",
   "metadata": {},
   "source": [
    "Fit model:"
   ]
  },
  {
   "cell_type": "code",
   "execution_count": 44,
   "metadata": {},
   "outputs": [
    {
     "data": {
      "text/plain": [
       "LinearRegression(copy_X=True, fit_intercept=True, n_jobs=1, normalize=False)"
      ]
     },
     "execution_count": 44,
     "metadata": {},
     "output_type": "execute_result"
    }
   ],
   "source": [
    "model.fit(team_names[predictor_cols],team_names.regular_occurrences)"
   ]
  },
  {
   "cell_type": "code",
   "execution_count": 45,
   "metadata": {},
   "outputs": [
    {
     "name": "stdout",
     "output_type": "stream",
     "text": [
      "Our model predicts that for a unit increase in Wins, a team will receive **-0.64** more mentions in the NYT during the regular season.\n",
      "\n",
      "Our model predicts that for a unit increase in Playoffs, a team will receive **27.0** more mentions in the NYT during the regular season.\n",
      "\n",
      "Our model predicts that for a unit increase in Conference, a team will receive **7.56** more mentions in the NYT during the regular season.\n",
      "\n"
     ]
    }
   ],
   "source": [
    "coefs = zip(predictor_cols,model.coef_)\n",
    "for coef in coefs:\n",
    "    print(f\"Our model predicts that for a unit increase in {coef[0]}, a team will receive **{round(coef[1],2)}** more mentions in the NYT during the regular season.\\n\")"
   ]
  },
  {
   "cell_type": "markdown",
   "metadata": {},
   "source": [
    "So this model actually shows that the number of wins a team gains does not improve the mentions it receives - this number actually decreases. All the weight of having a winning season is in reaching further rounds of the playoffs (even though our corpus doesn't include any playoff data!)."
   ]
  },
  {
   "cell_type": "markdown",
   "metadata": {},
   "source": [
    "Now let's plot the linear regression model that matches only wins against number of mentions:"
   ]
  },
  {
   "cell_type": "code",
   "execution_count": 50,
   "metadata": {},
   "outputs": [
    {
     "data": {
      "image/png": "[encoded data removed]",
      "text/plain": [
       "<Figure size 360x360 with 1 Axes>"
      ]
     },
     "metadata": {},
     "output_type": "display_data"
    }
   ],
   "source": [
    "g = sns.lmplot(x=\"Wins\", y=\"regular_occurrences\", data=team_names,fit_reg = True, legend = True)\n",
    "g.set_axis_labels(x_var = \"Number of Wins\", y_var = \"Mentions\")\n",
    "g.axes[0,0].set_xlim(0,82)\n",
    "plt.show()"
   ]
  },
  {
   "cell_type": "markdown",
   "metadata": {},
   "source": [
    "### Random Forest Model:"
   ]
  },
  {
   "cell_type": "code",
   "execution_count": 55,
   "metadata": {},
   "outputs": [],
   "source": [
    "from sklearn.ensemble import RandomForestRegressor\n",
    "from rfpimp import *"
   ]
  },
  {
   "cell_type": "code",
   "execution_count": 53,
   "metadata": {},
   "outputs": [
    {
     "data": {
      "text/plain": [
       "RandomForestRegressor(bootstrap=True, criterion='mse', max_depth=None,\n",
       "           max_features='auto', max_leaf_nodes=None,\n",
       "           min_impurity_decrease=0.0, min_impurity_split=None,\n",
       "           min_samples_leaf=1, min_samples_split=2,\n",
       "           min_weight_fraction_leaf=0.0, n_estimators=10, n_jobs=1,\n",
       "           oob_score=False, random_state=None, verbose=0, warm_start=False)"
      ]
     },
     "execution_count": 53,
     "metadata": {},
     "output_type": "execute_result"
    }
   ],
   "source": [
    "RF = RandomForestRegressor()\n",
    "RF.fit(team_names[predictor_cols],team_names.regular_occurrences)"
   ]
  },
  {
   "cell_type": "code",
   "execution_count": 57,
   "metadata": {},
   "outputs": [
    {
     "data": {
      "image/png": "[encoded data removed]",
      "text/plain": [
       "<Figure size 432x288 with 1 Axes>"
      ]
     },
     "metadata": {},
     "output_type": "display_data"
    }
   ],
   "source": [
    "imp = importances(RF,team_names[predictor_cols],team_names.regular_occurrences) # permutation\n",
    "plot_importances(imp)"
   ]
  },
  {
   "cell_type": "markdown",
   "metadata": {},
   "source": [
    "So this method (thanks [ParrT](https://github.com/parrt/random-forest-importances)) shows the same result - Playoffs is a much stronger indicator of mentions in the media, even during the regular season.\n",
    "\n",
    "What could this mean? Clearly the only reasonable conclusion is that the New York Times can predict the future! "
   ]
  },
  {
   "cell_type": "markdown",
   "metadata": {},
   "source": [
    "## 5. GitHub Navigation"
   ]
  },
  {
   "cell_type": "markdown",
   "metadata": {},
   "source": [
    "The code is divided into key chunks, as also outlined above:\n",
    "- Notebooks: Jupyter notebooks, comprising EDA and Team Analysis\n",
    "- NYT_Scrape: code to scrape New York Times articles and articles data\n",
    "- ESPN_Scrape: defunct code to scrape ESPN\n",
    "- Player_Stats: code to scrape various player and team statistics and some raw data"
   ]
  },
  {
   "cell_type": "markdown",
   "metadata": {},
   "source": [
    "## 6. X Factor"
   ]
  },
  {
   "cell_type": "markdown",
   "metadata": {},
   "source": [
    "I hope to have done enough to impress the judges with my interactive charts that can be personalised to any team. The prophetic powers of the NYT also appears to be quite the bombshell."
   ]
  },
  {
   "cell_type": "code",
   "execution_count": null,
   "metadata": {},
   "outputs": [],
   "source": []
  }
 ],
 "metadata": {
  "kernelspec": {
   "display_name": "Python 3",
   "language": "python",
   "name": "python3"
  },
  "language_info": {
   "codemirror_mode": {
    "name": "ipython",
    "version": 3
   },
   "file_extension": ".py",
   "mimetype": "text/x-python",
   "name": "python",
   "nbconvert_exporter": "python",
   "pygments_lexer": "ipython3",
   "version": "3.6.5"
  }
 },
 "nbformat": 4,
 "nbformat_minor": 2
}
