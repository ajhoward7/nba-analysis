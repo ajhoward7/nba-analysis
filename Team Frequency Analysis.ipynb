{
 "cells": [
  {
   "cell_type": "markdown",
   "metadata": {},
   "source": [
    "# Team Frequency Analysis"
   ]
  },
  {
   "cell_type": "code",
   "execution_count": 42,
   "metadata": {},
   "outputs": [],
   "source": [
    "import pandas as pd\n",
    "import matplotlib.pyplot as plt\n",
    "import numpy as np\n",
    "import os\n",
    "from collections import Counter\n",
    "from textblob import TextBlob, Word\n",
    "import nltk\n",
    "from nltk.corpus import stopwords\n",
    "import string\n",
    "import spacy\n",
    "import seaborn as sns"
   ]
  },
  {
   "cell_type": "code",
   "execution_count": 43,
   "metadata": {},
   "outputs": [],
   "source": [
    "%matplotlib inline"
   ]
  },
  {
   "cell_type": "code",
   "execution_count": 44,
   "metadata": {},
   "outputs": [],
   "source": [
    "articles_list = pd.read_csv('nyt_scrape/articles_list_w_date.csv',parse_dates=['date'])"
   ]
  },
  {
   "cell_type": "code",
   "execution_count": 45,
   "metadata": {},
   "outputs": [
    {
     "data": {
      "text/html": [
       "<div>\n",
       "<style scoped>\n",
       "    .dataframe tbody tr th:only-of-type {\n",
       "        vertical-align: middle;\n",
       "    }\n",
       "\n",
       "    .dataframe tbody tr th {\n",
       "        vertical-align: top;\n",
       "    }\n",
       "\n",
       "    .dataframe thead th {\n",
       "        text-align: right;\n",
       "    }\n",
       "</style>\n",
       "<table border=\"1\" class=\"dataframe\">\n",
       "  <thead>\n",
       "    <tr style=\"text-align: right;\">\n",
       "      <th></th>\n",
       "      <th>published_date</th>\n",
       "      <th>article_urls</th>\n",
       "      <th>article_summary</th>\n",
       "      <th>article_headline</th>\n",
       "      <th>title</th>\n",
       "      <th>date</th>\n",
       "    </tr>\n",
       "  </thead>\n",
       "  <tbody>\n",
       "    <tr>\n",
       "      <th>0</th>\n",
       "      <td>2018-06-09T17:31:27+0000</td>\n",
       "      <td>https://www.nytimes.com/2018/06/09/sports/nba-...</td>\n",
       "      <td>Accused of making the sport uncompetitive, the...</td>\n",
       "      <td>The Warriors Were Dominant. But How Dominant?</td>\n",
       "      <td>nba-finals-sweep</td>\n",
       "      <td>2018-06-09</td>\n",
       "    </tr>\n",
       "    <tr>\n",
       "      <th>1</th>\n",
       "      <td>2018-06-09T01:26:37+0000</td>\n",
       "      <td>https://www.nytimes.com/2018/06/08/movies/kyri...</td>\n",
       "      <td>In his most extensive comments to date, the Bo...</td>\n",
       "      <td>Kyrie Irving Doesn’t Know if the Earth Is Roun...</td>\n",
       "      <td>kyrie-irving-nba-celtics-earth</td>\n",
       "      <td>2018-06-09</td>\n",
       "    </tr>\n",
       "  </tbody>\n",
       "</table>\n",
       "</div>"
      ],
      "text/plain": [
       "             published_date  \\\n",
       "0  2018-06-09T17:31:27+0000   \n",
       "1  2018-06-09T01:26:37+0000   \n",
       "\n",
       "                                        article_urls  \\\n",
       "0  https://www.nytimes.com/2018/06/09/sports/nba-...   \n",
       "1  https://www.nytimes.com/2018/06/08/movies/kyri...   \n",
       "\n",
       "                                     article_summary  \\\n",
       "0  Accused of making the sport uncompetitive, the...   \n",
       "1  In his most extensive comments to date, the Bo...   \n",
       "\n",
       "                                    article_headline  \\\n",
       "0      The Warriors Were Dominant. But How Dominant?   \n",
       "1  Kyrie Irving Doesn’t Know if the Earth Is Roun...   \n",
       "\n",
       "                            title       date  \n",
       "0                nba-finals-sweep 2018-06-09  \n",
       "1  kyrie-irving-nba-celtics-earth 2018-06-09  "
      ]
     },
     "execution_count": 45,
     "metadata": {},
     "output_type": "execute_result"
    }
   ],
   "source": [
    "articles_list.head(2)"
   ]
  },
  {
   "cell_type": "markdown",
   "metadata": {},
   "source": [
    "## Total Mentions across Corpus:"
   ]
  },
  {
   "cell_type": "code",
   "execution_count": 46,
   "metadata": {},
   "outputs": [],
   "source": [
    "dir_list = os.listdir('nyt_scrape/new_articles')"
   ]
  },
  {
   "cell_type": "code",
   "execution_count": 47,
   "metadata": {},
   "outputs": [],
   "source": [
    "corpus = ''\n",
    "\n",
    "for article in dir_list:\n",
    "    with open(f'nyt_scrape/new_articles/{article}') as f:\n",
    "        corpus += f.read()\n",
    "        corpus += '\\n'\n",
    "\n",
    "corpus = corpus.replace('’','').replace('”','').replace('“','').replace('—','')"
   ]
  },
  {
   "cell_type": "code",
   "execution_count": 48,
   "metadata": {},
   "outputs": [],
   "source": [
    "corpus_blob = TextBlob(corpus)"
   ]
  },
  {
   "cell_type": "code",
   "execution_count": 49,
   "metadata": {},
   "outputs": [],
   "source": [
    "tags = corpus_blob.pos_tags\n",
    "tags = [tag for tag in tags if tag[1] in {'NN','NNS','NNP','NNPS'}]\n",
    "tags = [Word(tag[0].lower()) for tag in tags]\n",
    "lemma_tags = [tag.lemmatize() for tag in tags]\n",
    "lemma_tags = [tag for tag in tags if tag not in ['s','t']]\n",
    "c2 = Counter(lemma_tags)"
   ]
  },
  {
   "cell_type": "code",
   "execution_count": 50,
   "metadata": {},
   "outputs": [],
   "source": [
    "team_names = pd.read_csv('team_names.csv')"
   ]
  },
  {
   "cell_type": "code",
   "execution_count": 51,
   "metadata": {},
   "outputs": [],
   "source": [
    "playoff_dict = {0:'DNQ',1:'First Round',2:'Second Round',3:'Conference Finals',4:'NBA Finals',5:'Champion'}\n",
    "inverse_playoff_dict = dict(zip(playoff_dict.values(),playoff_dict.keys()))"
   ]
  },
  {
   "cell_type": "code",
   "execution_count": 52,
   "metadata": {},
   "outputs": [],
   "source": [
    "names = list(team_names['Name'])\n",
    "team_names['noun_occurrences'] = [c2[name.lower()] for name in names]"
   ]
  },
  {
   "cell_type": "code",
   "execution_count": 53,
   "metadata": {},
   "outputs": [
    {
     "data": {
      "text/html": [
       "<div>\n",
       "<style scoped>\n",
       "    .dataframe tbody tr th:only-of-type {\n",
       "        vertical-align: middle;\n",
       "    }\n",
       "\n",
       "    .dataframe tbody tr th {\n",
       "        vertical-align: top;\n",
       "    }\n",
       "\n",
       "    .dataframe thead th {\n",
       "        text-align: right;\n",
       "    }\n",
       "</style>\n",
       "<table border=\"1\" class=\"dataframe\">\n",
       "  <thead>\n",
       "    <tr style=\"text-align: right;\">\n",
       "      <th></th>\n",
       "      <th>Name</th>\n",
       "      <th>Wins</th>\n",
       "      <th>Playoffs</th>\n",
       "      <th>Conference</th>\n",
       "      <th>New York Team</th>\n",
       "      <th>noun_occurrences</th>\n",
       "    </tr>\n",
       "  </thead>\n",
       "  <tbody>\n",
       "    <tr>\n",
       "      <th>6</th>\n",
       "      <td>Knicks</td>\n",
       "      <td>29</td>\n",
       "      <td>0</td>\n",
       "      <td>E</td>\n",
       "      <td>1</td>\n",
       "      <td>590</td>\n",
       "    </tr>\n",
       "    <tr>\n",
       "      <th>2</th>\n",
       "      <td>Warriors</td>\n",
       "      <td>58</td>\n",
       "      <td>5</td>\n",
       "      <td>W</td>\n",
       "      <td>0</td>\n",
       "      <td>521</td>\n",
       "    </tr>\n",
       "    <tr>\n",
       "      <th>1</th>\n",
       "      <td>Cavaliers</td>\n",
       "      <td>50</td>\n",
       "      <td>4</td>\n",
       "      <td>E</td>\n",
       "      <td>0</td>\n",
       "      <td>370</td>\n",
       "    </tr>\n",
       "    <tr>\n",
       "      <th>3</th>\n",
       "      <td>Celtics</td>\n",
       "      <td>55</td>\n",
       "      <td>3</td>\n",
       "      <td>E</td>\n",
       "      <td>0</td>\n",
       "      <td>302</td>\n",
       "    </tr>\n",
       "    <tr>\n",
       "      <th>8</th>\n",
       "      <td>Rockets</td>\n",
       "      <td>65</td>\n",
       "      <td>3</td>\n",
       "      <td>W</td>\n",
       "      <td>0</td>\n",
       "      <td>296</td>\n",
       "    </tr>\n",
       "  </tbody>\n",
       "</table>\n",
       "</div>"
      ],
      "text/plain": [
       "        Name  Wins  Playoffs Conference  New York Team  noun_occurrences\n",
       "6     Knicks    29         0          E              1               590\n",
       "2   Warriors    58         5          W              0               521\n",
       "1  Cavaliers    50         4          E              0               370\n",
       "3    Celtics    55         3          E              0               302\n",
       "8    Rockets    65         3          W              0               296"
      ]
     },
     "execution_count": 53,
     "metadata": {},
     "output_type": "execute_result"
    }
   ],
   "source": [
    "team_names.sort_values(['noun_occurrences'],ascending=False).head()"
   ]
  },
  {
   "cell_type": "code",
   "execution_count": 54,
   "metadata": {},
   "outputs": [],
   "source": [
    "team_names['playoff_round'] = team_names.Playoffs.apply(lambda x : playoff_dict[x])"
   ]
  },
  {
   "cell_type": "code",
   "execution_count": 55,
   "metadata": {},
   "outputs": [
    {
     "data": {
      "image/png": "[encoded data removed]",
      "text/plain": [
       "<Figure size 407.375x360 with 1 Axes>"
      ]
     },
     "metadata": {},
     "output_type": "display_data"
    }
   ],
   "source": [
    "g = sns.lmplot(x=\"Wins\", y=\"noun_occurrences\", hue = \"playoff_round\",data=team_names,fit_reg = False, legend = True)\n",
    "g.set_axis_labels(x_var = \"Number of Wins\", y_var = \"Mentions\")\n",
    "g.axes[0,0].set_xlim(0,82)\n",
    "plt.show()"
   ]
  },
  {
   "cell_type": "markdown",
   "metadata": {},
   "source": [
    "This graph shows that teams who reach further in the playoffs and who have more wins tend to have significantly more mentions. Notable exceptions to this are the New York Knicks and the Brooklyn Nets - the two local teams that we would expect to be reported more."
   ]
  },
  {
   "cell_type": "markdown",
   "metadata": {},
   "source": [
    "# Regular Season Play:"
   ]
  },
  {
   "cell_type": "markdown",
   "metadata": {},
   "source": [
    "Let's try restricting our analysis to articles written before the start of the postseason to see if teams reaching further in the playoffs are also written more about in the regular season."
   ]
  },
  {
   "cell_type": "code",
   "execution_count": 56,
   "metadata": {},
   "outputs": [],
   "source": [
    "postseason_start = pd.to_datetime('2018-04-14')"
   ]
  },
  {
   "cell_type": "code",
   "execution_count": 57,
   "metadata": {},
   "outputs": [],
   "source": [
    "articles_list['regular_season'] = articles_list.date < postseason_start"
   ]
  },
  {
   "cell_type": "code",
   "execution_count": 58,
   "metadata": {},
   "outputs": [],
   "source": [
    "regular_season_corpus = ''\n",
    "\n",
    "for index, row in articles_list.iterrows():\n",
    "    if row['regular_season']:\n",
    "        article = row[\"article_urls\"].replace(\"/\",\"\").replace(\".\",\"\")\n",
    "        with open(f'nyt_scrape/new_articles/{article}.txt') as f:\n",
    "            regular_season_corpus += f.read()\n",
    "            regular_season_corpus += '\\n'"
   ]
  },
  {
   "cell_type": "code",
   "execution_count": 59,
   "metadata": {},
   "outputs": [],
   "source": [
    "regular_blob = TextBlob(regular_season_corpus)\n",
    "tags = regular_blob.pos_tags\n",
    "tags = [tag for tag in tags if tag[1] in {'NN','NNS','NNP','NNPS'}]\n",
    "tags = [Word(tag[0].lower()) for tag in tags]\n",
    "lemma_tags = [tag.lemmatize() for tag in tags]\n",
    "lemma_tags = [tag for tag in tags if tag not in ['s','t']]\n",
    "c3 = Counter(lemma_tags)"
   ]
  },
  {
   "cell_type": "code",
   "execution_count": 60,
   "metadata": {},
   "outputs": [],
   "source": [
    "team_names['regular_occurrences'] = [c3[name.lower()] for name in names]"
   ]
  },
  {
   "cell_type": "code",
   "execution_count": 61,
   "metadata": {},
   "outputs": [
    {
     "data": {
      "text/html": [
       "<div>\n",
       "<style scoped>\n",
       "    .dataframe tbody tr th:only-of-type {\n",
       "        vertical-align: middle;\n",
       "    }\n",
       "\n",
       "    .dataframe tbody tr th {\n",
       "        vertical-align: top;\n",
       "    }\n",
       "\n",
       "    .dataframe thead th {\n",
       "        text-align: right;\n",
       "    }\n",
       "</style>\n",
       "<table border=\"1\" class=\"dataframe\">\n",
       "  <thead>\n",
       "    <tr style=\"text-align: right;\">\n",
       "      <th></th>\n",
       "      <th>Name</th>\n",
       "      <th>Wins</th>\n",
       "      <th>Playoffs</th>\n",
       "      <th>Conference</th>\n",
       "      <th>New York Team</th>\n",
       "      <th>noun_occurrences</th>\n",
       "      <th>playoff_round</th>\n",
       "      <th>regular_occurrences</th>\n",
       "    </tr>\n",
       "  </thead>\n",
       "  <tbody>\n",
       "    <tr>\n",
       "      <th>6</th>\n",
       "      <td>Knicks</td>\n",
       "      <td>29</td>\n",
       "      <td>0</td>\n",
       "      <td>E</td>\n",
       "      <td>1</td>\n",
       "      <td>590</td>\n",
       "      <td>DNQ</td>\n",
       "      <td>559</td>\n",
       "    </tr>\n",
       "    <tr>\n",
       "      <th>2</th>\n",
       "      <td>Warriors</td>\n",
       "      <td>58</td>\n",
       "      <td>5</td>\n",
       "      <td>W</td>\n",
       "      <td>0</td>\n",
       "      <td>521</td>\n",
       "      <td>Champion</td>\n",
       "      <td>168</td>\n",
       "    </tr>\n",
       "    <tr>\n",
       "      <th>1</th>\n",
       "      <td>Cavaliers</td>\n",
       "      <td>50</td>\n",
       "      <td>4</td>\n",
       "      <td>E</td>\n",
       "      <td>0</td>\n",
       "      <td>370</td>\n",
       "      <td>NBA Finals</td>\n",
       "      <td>147</td>\n",
       "    </tr>\n",
       "    <tr>\n",
       "      <th>24</th>\n",
       "      <td>Nets</td>\n",
       "      <td>28</td>\n",
       "      <td>0</td>\n",
       "      <td>E</td>\n",
       "      <td>1</td>\n",
       "      <td>146</td>\n",
       "      <td>DNQ</td>\n",
       "      <td>145</td>\n",
       "    </tr>\n",
       "    <tr>\n",
       "      <th>3</th>\n",
       "      <td>Celtics</td>\n",
       "      <td>55</td>\n",
       "      <td>3</td>\n",
       "      <td>E</td>\n",
       "      <td>0</td>\n",
       "      <td>302</td>\n",
       "      <td>Conference Finals</td>\n",
       "      <td>130</td>\n",
       "    </tr>\n",
       "  </tbody>\n",
       "</table>\n",
       "</div>"
      ],
      "text/plain": [
       "         Name  Wins  Playoffs Conference  New York Team  noun_occurrences  \\\n",
       "6      Knicks    29         0          E              1               590   \n",
       "2    Warriors    58         5          W              0               521   \n",
       "1   Cavaliers    50         4          E              0               370   \n",
       "24       Nets    28         0          E              1               146   \n",
       "3     Celtics    55         3          E              0               302   \n",
       "\n",
       "        playoff_round  regular_occurrences  \n",
       "6                 DNQ                  559  \n",
       "2            Champion                  168  \n",
       "1          NBA Finals                  147  \n",
       "24                DNQ                  145  \n",
       "3   Conference Finals                  130  "
      ]
     },
     "execution_count": 61,
     "metadata": {},
     "output_type": "execute_result"
    }
   ],
   "source": [
    "team_names.sort_values(['regular_occurrences'],ascending=False).head()"
   ]
  },
  {
   "cell_type": "code",
   "execution_count": 62,
   "metadata": {},
   "outputs": [
    {
     "data": {
      "text/html": [
       "<div>\n",
       "<style scoped>\n",
       "    .dataframe tbody tr th:only-of-type {\n",
       "        vertical-align: middle;\n",
       "    }\n",
       "\n",
       "    .dataframe tbody tr th {\n",
       "        vertical-align: top;\n",
       "    }\n",
       "\n",
       "    .dataframe thead th {\n",
       "        text-align: right;\n",
       "    }\n",
       "</style>\n",
       "<table border=\"1\" class=\"dataframe\">\n",
       "  <thead>\n",
       "    <tr style=\"text-align: right;\">\n",
       "      <th></th>\n",
       "      <th>Name</th>\n",
       "      <th>Wins</th>\n",
       "      <th>Playoffs</th>\n",
       "      <th>Conference</th>\n",
       "      <th>New York Team</th>\n",
       "      <th>noun_occurrences</th>\n",
       "      <th>playoff_round</th>\n",
       "      <th>regular_occurrences</th>\n",
       "    </tr>\n",
       "  </thead>\n",
       "  <tbody>\n",
       "    <tr>\n",
       "      <th>7</th>\n",
       "      <td>Bulls</td>\n",
       "      <td>27</td>\n",
       "      <td>0</td>\n",
       "      <td>E</td>\n",
       "      <td>0</td>\n",
       "      <td>28</td>\n",
       "      <td>DNQ</td>\n",
       "      <td>18</td>\n",
       "    </tr>\n",
       "    <tr>\n",
       "      <th>15</th>\n",
       "      <td>Timberwolves</td>\n",
       "      <td>47</td>\n",
       "      <td>1</td>\n",
       "      <td>W</td>\n",
       "      <td>0</td>\n",
       "      <td>46</td>\n",
       "      <td>First Round</td>\n",
       "      <td>23</td>\n",
       "    </tr>\n",
       "    <tr>\n",
       "      <th>20</th>\n",
       "      <td>Blazers</td>\n",
       "      <td>49</td>\n",
       "      <td>1</td>\n",
       "      <td>W</td>\n",
       "      <td>0</td>\n",
       "      <td>44</td>\n",
       "      <td>First Round</td>\n",
       "      <td>24</td>\n",
       "    </tr>\n",
       "    <tr>\n",
       "      <th>25</th>\n",
       "      <td>Grizzlies</td>\n",
       "      <td>22</td>\n",
       "      <td>0</td>\n",
       "      <td>E</td>\n",
       "      <td>0</td>\n",
       "      <td>29</td>\n",
       "      <td>DNQ</td>\n",
       "      <td>25</td>\n",
       "    </tr>\n",
       "    <tr>\n",
       "      <th>16</th>\n",
       "      <td>Hornets</td>\n",
       "      <td>36</td>\n",
       "      <td>0</td>\n",
       "      <td>E</td>\n",
       "      <td>0</td>\n",
       "      <td>31</td>\n",
       "      <td>DNQ</td>\n",
       "      <td>29</td>\n",
       "    </tr>\n",
       "  </tbody>\n",
       "</table>\n",
       "</div>"
      ],
      "text/plain": [
       "            Name  Wins  Playoffs Conference  New York Team  noun_occurrences  \\\n",
       "7          Bulls    27         0          E              0                28   \n",
       "15  Timberwolves    47         1          W              0                46   \n",
       "20       Blazers    49         1          W              0                44   \n",
       "25     Grizzlies    22         0          E              0                29   \n",
       "16       Hornets    36         0          E              0                31   \n",
       "\n",
       "   playoff_round  regular_occurrences  \n",
       "7            DNQ                   18  \n",
       "15   First Round                   23  \n",
       "20   First Round                   24  \n",
       "25           DNQ                   25  \n",
       "16           DNQ                   29  "
      ]
     },
     "execution_count": 62,
     "metadata": {},
     "output_type": "execute_result"
    }
   ],
   "source": [
    "team_names.sort_values(['regular_occurrences'],ascending=True).head()"
   ]
  },
  {
   "cell_type": "markdown",
   "metadata": {},
   "source": [
    "Immediately we find the Knicks and Nets are even more heavily favoured."
   ]
  },
  {
   "cell_type": "code",
   "execution_count": 63,
   "metadata": {
    "scrolled": false
   },
   "outputs": [
    {
     "data": {
      "image/png": "[encoded data removed]",
      "text/plain": [
       "<Figure size 407.375x360 with 1 Axes>"
      ]
     },
     "metadata": {},
     "output_type": "display_data"
    }
   ],
   "source": [
    "g = sns.lmplot(x=\"Wins\", y=\"regular_occurrences\", hue = \"playoff_round\",data=team_names,fit_reg = False, legend = True)\n",
    "g.set_axis_labels(x_var = \"Number of Wins\", y_var = \"Mentions\")\n",
    "g.axes[0,0].set_xlim(0,82)\n",
    "plt.show()"
   ]
  },
  {
   "cell_type": "markdown",
   "metadata": {},
   "source": [
    "Using this we see much more of a parity across all teams (except for the Knicks), with the fewest mentions being the Chicago Bulls at 18."
   ]
  },
  {
   "cell_type": "markdown",
   "metadata": {},
   "source": [
    "Let's try to fit a linear regression model to this data to examine the underlying effects of each factor:"
   ]
  },
  {
   "cell_type": "code",
   "execution_count": 64,
   "metadata": {},
   "outputs": [],
   "source": [
    "from sklearn.linear_model import LinearRegression"
   ]
  },
  {
   "cell_type": "code",
   "execution_count": 65,
   "metadata": {},
   "outputs": [],
   "source": [
    "model = LinearRegression()"
   ]
  },
  {
   "cell_type": "code",
   "execution_count": 66,
   "metadata": {},
   "outputs": [
    {
     "data": {
      "text/html": [
       "<div>\n",
       "<style scoped>\n",
       "    .dataframe tbody tr th:only-of-type {\n",
       "        vertical-align: middle;\n",
       "    }\n",
       "\n",
       "    .dataframe tbody tr th {\n",
       "        vertical-align: top;\n",
       "    }\n",
       "\n",
       "    .dataframe thead th {\n",
       "        text-align: right;\n",
       "    }\n",
       "</style>\n",
       "<table border=\"1\" class=\"dataframe\">\n",
       "  <thead>\n",
       "    <tr style=\"text-align: right;\">\n",
       "      <th></th>\n",
       "      <th>Name</th>\n",
       "      <th>Wins</th>\n",
       "      <th>Playoffs</th>\n",
       "      <th>Conference</th>\n",
       "      <th>New York Team</th>\n",
       "      <th>noun_occurrences</th>\n",
       "      <th>playoff_round</th>\n",
       "      <th>regular_occurrences</th>\n",
       "    </tr>\n",
       "  </thead>\n",
       "  <tbody>\n",
       "    <tr>\n",
       "      <th>0</th>\n",
       "      <td>Lakers</td>\n",
       "      <td>35</td>\n",
       "      <td>0</td>\n",
       "      <td>W</td>\n",
       "      <td>0</td>\n",
       "      <td>103</td>\n",
       "      <td>DNQ</td>\n",
       "      <td>88</td>\n",
       "    </tr>\n",
       "    <tr>\n",
       "      <th>1</th>\n",
       "      <td>Cavaliers</td>\n",
       "      <td>50</td>\n",
       "      <td>4</td>\n",
       "      <td>E</td>\n",
       "      <td>0</td>\n",
       "      <td>370</td>\n",
       "      <td>NBA Finals</td>\n",
       "      <td>147</td>\n",
       "    </tr>\n",
       "    <tr>\n",
       "      <th>2</th>\n",
       "      <td>Warriors</td>\n",
       "      <td>58</td>\n",
       "      <td>5</td>\n",
       "      <td>W</td>\n",
       "      <td>0</td>\n",
       "      <td>521</td>\n",
       "      <td>Champion</td>\n",
       "      <td>168</td>\n",
       "    </tr>\n",
       "    <tr>\n",
       "      <th>3</th>\n",
       "      <td>Celtics</td>\n",
       "      <td>55</td>\n",
       "      <td>3</td>\n",
       "      <td>E</td>\n",
       "      <td>0</td>\n",
       "      <td>302</td>\n",
       "      <td>Conference Finals</td>\n",
       "      <td>130</td>\n",
       "    </tr>\n",
       "    <tr>\n",
       "      <th>4</th>\n",
       "      <td>Spurs</td>\n",
       "      <td>47</td>\n",
       "      <td>1</td>\n",
       "      <td>W</td>\n",
       "      <td>0</td>\n",
       "      <td>108</td>\n",
       "      <td>First Round</td>\n",
       "      <td>79</td>\n",
       "    </tr>\n",
       "  </tbody>\n",
       "</table>\n",
       "</div>"
      ],
      "text/plain": [
       "        Name  Wins  Playoffs Conference  New York Team  noun_occurrences  \\\n",
       "0     Lakers    35         0          W              0               103   \n",
       "1  Cavaliers    50         4          E              0               370   \n",
       "2   Warriors    58         5          W              0               521   \n",
       "3    Celtics    55         3          E              0               302   \n",
       "4      Spurs    47         1          W              0               108   \n",
       "\n",
       "       playoff_round  regular_occurrences  \n",
       "0                DNQ                   88  \n",
       "1         NBA Finals                  147  \n",
       "2           Champion                  168  \n",
       "3  Conference Finals                  130  \n",
       "4        First Round                   79  "
      ]
     },
     "execution_count": 66,
     "metadata": {},
     "output_type": "execute_result"
    }
   ],
   "source": [
    "team_names.head()"
   ]
  },
  {
   "cell_type": "code",
   "execution_count": 68,
   "metadata": {},
   "outputs": [],
   "source": [
    "team_names.Conference = team_names.Conference.apply(lambda x : 0 if x==\"E\" else 1)"
   ]
  },
  {
   "cell_type": "code",
   "execution_count": 71,
   "metadata": {},
   "outputs": [
    {
     "data": {
      "text/plain": [
       "LinearRegression(copy_X=True, fit_intercept=True, n_jobs=1, normalize=False)"
      ]
     },
     "execution_count": 71,
     "metadata": {},
     "output_type": "execute_result"
    }
   ],
   "source": [
    "predictor_cols = ['Wins','Playoffs','Conference','New York Team']\n",
    "model.fit(team_names[predictor_cols],team_names.regular_occurrences)"
   ]
  },
  {
   "cell_type": "code",
   "execution_count": 88,
   "metadata": {},
   "outputs": [],
   "source": [
    "coefs = zip(predictor_cols,model.coef_)"
   ]
  },
  {
   "cell_type": "code",
   "execution_count": 89,
   "metadata": {},
   "outputs": [
    {
     "name": "stdout",
     "output_type": "stream",
     "text": [
      "Our model predicts that for a unit increase in Wins, a team will receive **-0.52** more mentions in the NYT during the regular season.\n",
      "\n",
      "Our model predicts that for a unit increase in Playoffs, a team will receive **26.2** more mentions in the NYT during the regular season.\n",
      "\n",
      "Our model predicts that for a unit increase in Conference, a team will receive **7.36** more mentions in the NYT during the regular season.\n",
      "\n",
      "Our model predicts that for a unit increase in New York Team, a team will receive **320.02** more mentions in the NYT during the regular season.\n",
      "\n"
     ]
    }
   ],
   "source": [
    "for coef in coefs:\n",
    "    print(f\"Our model predicts that for a unit increase in {coef[0]}, a team will receive **{round(coef[1],2)}** more mentions in the NYT during the regular season.\\n\")"
   ]
  },
  {
   "cell_type": "markdown",
   "metadata": {},
   "source": [
    "Perhaps interesting to note is that being in the Western Conference appears to be a strong predictor of mentions and that actually winning more games would result in less mentions - this seems likely because the data is distorted by the high level of mentions for the Knicks."
   ]
  },
  {
   "cell_type": "markdown",
   "metadata": {},
   "source": [
    "## Try dropping New York teams:"
   ]
  },
  {
   "cell_type": "code",
   "execution_count": 93,
   "metadata": {},
   "outputs": [],
   "source": [
    "team_names.drop([6,24],inplace = True)  # Remove Knicks, Nets"
   ]
  },
  {
   "cell_type": "code",
   "execution_count": 94,
   "metadata": {},
   "outputs": [
    {
     "data": {
      "text/plain": [
       "LinearRegression(copy_X=True, fit_intercept=True, n_jobs=1, normalize=False)"
      ]
     },
     "execution_count": 94,
     "metadata": {},
     "output_type": "execute_result"
    }
   ],
   "source": [
    "model = LinearRegression()\n",
    "model.fit(team_names[predictor_cols],team_names.regular_occurrences)"
   ]
  },
  {
   "cell_type": "code",
   "execution_count": 95,
   "metadata": {},
   "outputs": [],
   "source": [
    "coefs = zip(predictor_cols,model.coef_)"
   ]
  },
  {
   "cell_type": "code",
   "execution_count": 96,
   "metadata": {},
   "outputs": [
    {
     "name": "stdout",
     "output_type": "stream",
     "text": [
      "Our model predicts that for a unit increase in Wins, a team will receive **-0.64** more mentions in the NYT during the regular season.\n",
      "\n",
      "Our model predicts that for a unit increase in Playoffs, a team will receive **27.0** more mentions in the NYT during the regular season.\n",
      "\n",
      "Our model predicts that for a unit increase in Conference, a team will receive **7.56** more mentions in the NYT during the regular season.\n",
      "\n",
      "Our model predicts that for a unit increase in New York Team, a team will receive **0.0** more mentions in the NYT during the regular season.\n",
      "\n"
     ]
    }
   ],
   "source": [
    "for coef in coefs:\n",
    "    print(f\"Our model predicts that for a unit increase in {coef[0]}, a team will receive **{round(coef[1],2)}** more mentions in the NYT during the regular season.\\n\")"
   ]
  },
  {
   "cell_type": "markdown",
   "metadata": {},
   "source": [
    "Even when discounting the New York teams winning games still appears to negatively impact the number of mentions. Clearly all the benefit of being a good team is correlated with performing well in the playoffs - each round a team will progress in future is worth 27 more mentions throughout the regular season."
   ]
  },
  {
   "cell_type": "markdown",
   "metadata": {},
   "source": [
    "## Remove Playoffs as a predictor:"
   ]
  },
  {
   "cell_type": "code",
   "execution_count": 98,
   "metadata": {},
   "outputs": [
    {
     "name": "stdout",
     "output_type": "stream",
     "text": [
      "Our model predicts that for a unit increase in Wins, a team will receive **1.62** more mentions in the NYT during the regular season.\n",
      "\n",
      "Our model predicts that for a unit increase in Conference, a team will receive **5.42** more mentions in the NYT during the regular season.\n",
      "\n"
     ]
    }
   ],
   "source": [
    "predictor_cols = ['Wins','Conference']\n",
    "model = LinearRegression()\n",
    "model.fit(team_names[predictor_cols],team_names.regular_occurrences)\n",
    "coefs = zip(predictor_cols,model.coef_)\n",
    "for coef in coefs:\n",
    "    print(f\"Our model predicts that for a unit increase in {coef[0]}, a team will receive **{round(coef[1],2)}** more mentions in the NYT during the regular season.\\n\")"
   ]
  },
  {
   "cell_type": "markdown",
   "metadata": {},
   "source": [
    "Finally in this case we see a benefit to receiving more wins."
   ]
  },
  {
   "cell_type": "markdown",
   "metadata": {},
   "source": [
    "Plotting this with seaborn:"
   ]
  },
  {
   "cell_type": "code",
   "execution_count": 100,
   "metadata": {},
   "outputs": [
    {
     "data": {
      "image/png": "[encoded data removed]",
      "text/plain": [
       "<Figure size 360x360 with 1 Axes>"
      ]
     },
     "metadata": {},
     "output_type": "display_data"
    }
   ],
   "source": [
    "g = sns.lmplot(x=\"Wins\", y=\"regular_occurrences\", data=team_names,fit_reg = True, legend = True)\n",
    "g.set_axis_labels(x_var = \"Number of Wins\", y_var = \"Mentions\")\n",
    "g.axes[0,0].set_xlim(0,82)\n",
    "plt.show()"
   ]
  },
  {
   "cell_type": "markdown",
   "metadata": {},
   "source": [
    "# Sentiment Analysis:"
   ]
  },
  {
   "cell_type": "markdown",
   "metadata": {},
   "source": [
    "What may be more interesting and insightful is if we can track the performance of teams based on the sentiment of articles written about them."
   ]
  },
  {
   "cell_type": "code",
   "execution_count": 101,
   "metadata": {},
   "outputs": [
    {
     "data": {
      "text/plain": [
       "Sentiment(polarity=0.08991123624834538, subjectivity=0.4294470723252638)"
      ]
     },
     "execution_count": 101,
     "metadata": {},
     "output_type": "execute_result"
    }
   ],
   "source": [
    "corpus_blob.sentiment"
   ]
  },
  {
   "cell_type": "code",
   "execution_count": 113,
   "metadata": {},
   "outputs": [
    {
     "data": {
      "text/plain": [
       "80"
      ]
     },
     "execution_count": 113,
     "metadata": {},
     "output_type": "execute_result"
    }
   ],
   "source": [
    "corpus.count(\"Cleveland Cavaliers\")"
   ]
  },
  {
   "cell_type": "markdown",
   "metadata": {},
   "source": [
    "Read in files one by one cleverly. Most of work goes into this one step. Pay attention to dates and consider scraping records."
   ]
  },
  {
   "cell_type": "code",
   "execution_count": null,
   "metadata": {},
   "outputs": [],
   "source": []
  }
 ],
 "metadata": {
  "kernelspec": {
   "display_name": "Python 3",
   "language": "python",
   "name": "python3"
  },
  "language_info": {
   "codemirror_mode": {
    "name": "ipython",
    "version": 3
   },
   "file_extension": ".py",
   "mimetype": "text/x-python",
   "name": "python",
   "nbconvert_exporter": "python",
   "pygments_lexer": "ipython3",
   "version": "3.6.5"
  }
 },
 "nbformat": 4,
 "nbformat_minor": 2
}
